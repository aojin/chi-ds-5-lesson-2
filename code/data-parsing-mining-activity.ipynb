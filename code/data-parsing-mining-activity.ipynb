{
 "cells": [
  {
   "cell_type": "markdown",
   "metadata": {},
   "source": [
    "## Pandas | Data Parsing and Mining"
   ]
  },
  {
   "cell_type": "markdown",
   "metadata": {},
   "source": [
    "#### Start out by importing the pandas library, and we'll tell Python that we're referring to it as \"pd\" (for the sake of brevity)"
   ]
  },
  {
   "cell_type": "code",
   "execution_count": 2,
   "metadata": {
    "collapsed": false
   },
   "outputs": [
    {
     "ename": "NameError",
     "evalue": "name 'pandas' is not defined",
     "output_type": "error",
     "traceback": [
      "\u001b[0;31m---------------------------------------------------------------------------\u001b[0m",
      "\u001b[0;31mNameError\u001b[0m                                 Traceback (most recent call last)",
      "\u001b[0;32m<ipython-input-2-2f19884f1459>\u001b[0m in \u001b[0;36m<module>\u001b[0;34m()\u001b[0m\n\u001b[0;32m----> 1\u001b[0;31m \u001b[0mpandas\u001b[0m\u001b[1;33m\u001b[0m\u001b[0m\n\u001b[0m",
      "\u001b[0;31mNameError\u001b[0m: name 'pandas' is not defined"
     ]
    }
   ],
   "source": [
    "import pand"
   ]
  },
  {
   "cell_type": "markdown",
   "metadata": {},
   "source": [
    "#### Read in a CSV file into a pandas dataframe we'll call \"df\"\n",
    "#### The csv reading function assumes that each person is on a new line, that the variable names are at the top of the file, and all entries are separated by a column"
   ]
  },
  {
   "cell_type": "code",
   "execution_count": 6,
   "metadata": {
    "collapsed": false
   },
   "outputs": [
    {
     "name": "stdout",
     "output_type": "stream",
     "text": [
      "     survived  pclass                                               name  \\\n",
      "0           0       3                            Braund, Mr. Owen Harris   \n",
      "1           1       1  Cumings, Mrs. John Bradley (Florence Briggs Th...   \n",
      "2           1       3                             Heikkinen, Miss. Laina   \n",
      "3           1       1       Futrelle, Mrs. Jacques Heath (Lily May Peel)   \n",
      "4           0       3                           Allen, Mr. William Henry   \n",
      "5           0       3                                   Moran, Mr. James   \n",
      "6           0       1                            McCarthy, Mr. Timothy J   \n",
      "7           0       3                     Palsson, Master. Gosta Leonard   \n",
      "8           1       3  Johnson, Mrs. Oscar W (Elisabeth Vilhelmina Berg)   \n",
      "9           1       2                Nasser, Mrs. Nicholas (Adele Achem)   \n",
      "10          1       3                    Sandstrom, Miss. Marguerite Rut   \n",
      "11          1       1                           Bonnell, Miss. Elizabeth   \n",
      "12          0       3                     Saundercock, Mr. William Henry   \n",
      "13          0       3                        Andersson, Mr. Anders Johan   \n",
      "14          0       3               Vestrom, Miss. Hulda Amanda Adolfina   \n",
      "15          1       2                   Hewlett, Mrs. (Mary D Kingcome)    \n",
      "16          0       3                               Rice, Master. Eugene   \n",
      "17          1       2                       Williams, Mr. Charles Eugene   \n",
      "18          0       3  Vander Planke, Mrs. Julius (Emelia Maria Vande...   \n",
      "19          1       3                            Masselmani, Mrs. Fatima   \n",
      "20          0       2                               Fynney, Mr. Joseph J   \n",
      "21          1       2                              Beesley, Mr. Lawrence   \n",
      "22          1       3                        McGowan, Miss. Anna \"Annie\"   \n",
      "23          1       1                       Sloper, Mr. William Thompson   \n",
      "24          0       3                      Palsson, Miss. Torborg Danira   \n",
      "25          1       3  Asplund, Mrs. Carl Oscar (Selma Augusta Emilia...   \n",
      "26          0       3                            Emir, Mr. Farred Chehab   \n",
      "27          0       1                     Fortune, Mr. Charles Alexander   \n",
      "28          1       3                      O'Dwyer, Miss. Ellen \"Nellie\"   \n",
      "29          0       3                                Todoroff, Mr. Lalio   \n",
      "..        ...     ...                                                ...   \n",
      "861         0       2                        Giles, Mr. Frederick Edward   \n",
      "862         1       1  Swift, Mrs. Frederick Joel (Margaret Welles Ba...   \n",
      "863         0       3                  Sage, Miss. Dorothy Edith \"Dolly\"   \n",
      "864         0       2                             Gill, Mr. John William   \n",
      "865         1       2                           Bystrom, Mrs. (Karolina)   \n",
      "866         1       2                       Duran y More, Miss. Asuncion   \n",
      "867         0       1               Roebling, Mr. Washington Augustus II   \n",
      "868         0       3                        van Melkebeke, Mr. Philemon   \n",
      "869         1       3                    Johnson, Master. Harold Theodor   \n",
      "870         0       3                                  Balkic, Mr. Cerin   \n",
      "871         1       1   Beckwith, Mrs. Richard Leonard (Sallie Monypeny)   \n",
      "872         0       1                           Carlsson, Mr. Frans Olof   \n",
      "873         0       3                        Vander Cruyssen, Mr. Victor   \n",
      "874         1       2              Abelson, Mrs. Samuel (Hannah Wizosky)   \n",
      "875         1       3                   Najib, Miss. Adele Kiamie \"Jane\"   \n",
      "876         0       3                      Gustafsson, Mr. Alfred Ossian   \n",
      "877         0       3                               Petroff, Mr. Nedelio   \n",
      "878         0       3                                 Laleff, Mr. Kristo   \n",
      "879         1       1      Potter, Mrs. Thomas Jr (Lily Alexenia Wilson)   \n",
      "880         1       2       Shelley, Mrs. William (Imanita Parrish Hall)   \n",
      "881         0       3                                 Markun, Mr. Johann   \n",
      "882         0       3                       Dahlberg, Miss. Gerda Ulrika   \n",
      "883         0       2                      Banfield, Mr. Frederick James   \n",
      "884         0       3                             Sutehall, Mr. Henry Jr   \n",
      "885         0       3               Rice, Mrs. William (Margaret Norton)   \n",
      "886         0       2                              Montvila, Rev. Juozas   \n",
      "887         1       1                       Graham, Miss. Margaret Edith   \n",
      "888         0       3           Johnston, Miss. Catherine Helen \"Carrie\"   \n",
      "889         1       1                              Behr, Mr. Karl Howell   \n",
      "890         0       3                                Dooley, Mr. Patrick   \n",
      "\n",
      "        sex   age  sibsp  parch            ticket      fare        cabin  \\\n",
      "0      male  22.0      1      0         A/5 21171    7.2500          NaN   \n",
      "1    female  38.0      1      0          PC 17599   71.2833          C85   \n",
      "2    female  26.0      0      0  STON/O2. 3101282    7.9250          NaN   \n",
      "3    female  35.0      1      0            113803   53.1000         C123   \n",
      "4      male  35.0      0      0            373450    8.0500          NaN   \n",
      "5      male   NaN      0      0            330877    8.4583          NaN   \n",
      "6      male  54.0      0      0             17463   51.8625          E46   \n",
      "7      male   2.0      3      1            349909   21.0750          NaN   \n",
      "8    female  27.0      0      2            347742   11.1333          NaN   \n",
      "9    female  14.0      1      0            237736   30.0708          NaN   \n",
      "10   female   4.0      1      1           PP 9549   16.7000           G6   \n",
      "11   female  58.0      0      0            113783   26.5500         C103   \n",
      "12     male  20.0      0      0         A/5. 2151    8.0500          NaN   \n",
      "13     male  39.0      1      5            347082   31.2750          NaN   \n",
      "14   female  14.0      0      0            350406    7.8542          NaN   \n",
      "15   female  55.0      0      0            248706   16.0000          NaN   \n",
      "16     male   2.0      4      1            382652   29.1250          NaN   \n",
      "17     male   NaN      0      0            244373   13.0000          NaN   \n",
      "18   female  31.0      1      0            345763   18.0000          NaN   \n",
      "19   female   NaN      0      0              2649    7.2250          NaN   \n",
      "20     male  35.0      0      0            239865   26.0000          NaN   \n",
      "21     male  34.0      0      0            248698   13.0000          D56   \n",
      "22   female  15.0      0      0            330923    8.0292          NaN   \n",
      "23     male  28.0      0      0            113788   35.5000           A6   \n",
      "24   female   8.0      3      1            349909   21.0750          NaN   \n",
      "25   female  38.0      1      5            347077   31.3875          NaN   \n",
      "26     male   NaN      0      0              2631    7.2250          NaN   \n",
      "27     male  19.0      3      2             19950  263.0000  C23 C25 C27   \n",
      "28   female   NaN      0      0            330959    7.8792          NaN   \n",
      "29     male   NaN      0      0            349216    7.8958          NaN   \n",
      "..      ...   ...    ...    ...               ...       ...          ...   \n",
      "861    male  21.0      1      0             28134   11.5000          NaN   \n",
      "862  female  48.0      0      0             17466   25.9292          D17   \n",
      "863  female   NaN      8      2          CA. 2343   69.5500          NaN   \n",
      "864    male  24.0      0      0            233866   13.0000          NaN   \n",
      "865  female  42.0      0      0            236852   13.0000          NaN   \n",
      "866  female  27.0      1      0     SC/PARIS 2149   13.8583          NaN   \n",
      "867    male  31.0      0      0          PC 17590   50.4958          A24   \n",
      "868    male   NaN      0      0            345777    9.5000          NaN   \n",
      "869    male   4.0      1      1            347742   11.1333          NaN   \n",
      "870    male  26.0      0      0            349248    7.8958          NaN   \n",
      "871  female  47.0      1      1             11751   52.5542          D35   \n",
      "872    male  33.0      0      0               695    5.0000  B51 B53 B55   \n",
      "873    male  47.0      0      0            345765    9.0000          NaN   \n",
      "874  female  28.0      1      0         P/PP 3381   24.0000          NaN   \n",
      "875  female  15.0      0      0              2667    7.2250          NaN   \n",
      "876    male  20.0      0      0              7534    9.8458          NaN   \n",
      "877    male  19.0      0      0            349212    7.8958          NaN   \n",
      "878    male   NaN      0      0            349217    7.8958          NaN   \n",
      "879  female  56.0      0      1             11767   83.1583          C50   \n",
      "880  female  25.0      0      1            230433   26.0000          NaN   \n",
      "881    male  33.0      0      0            349257    7.8958          NaN   \n",
      "882  female  22.0      0      0              7552   10.5167          NaN   \n",
      "883    male  28.0      0      0  C.A./SOTON 34068   10.5000          NaN   \n",
      "884    male  25.0      0      0   SOTON/OQ 392076    7.0500          NaN   \n",
      "885  female  39.0      0      5            382652   29.1250          NaN   \n",
      "886    male  27.0      0      0            211536   13.0000          NaN   \n",
      "887  female  19.0      0      0            112053   30.0000          B42   \n",
      "888  female   NaN      1      2        W./C. 6607   23.4500          NaN   \n",
      "889    male  26.0      0      0            111369   30.0000         C148   \n",
      "890    male  32.0      0      0            370376    7.7500          NaN   \n",
      "\n",
      "    embarked  \n",
      "0          S  \n",
      "1          C  \n",
      "2          S  \n",
      "3          S  \n",
      "4          S  \n",
      "5          Q  \n",
      "6          S  \n",
      "7          S  \n",
      "8          S  \n",
      "9          C  \n",
      "10         S  \n",
      "11         S  \n",
      "12         S  \n",
      "13         S  \n",
      "14         S  \n",
      "15         S  \n",
      "16         Q  \n",
      "17         S  \n",
      "18         S  \n",
      "19         C  \n",
      "20         S  \n",
      "21         S  \n",
      "22         Q  \n",
      "23         S  \n",
      "24         S  \n",
      "25         S  \n",
      "26         C  \n",
      "27         S  \n",
      "28         Q  \n",
      "29         S  \n",
      "..       ...  \n",
      "861        S  \n",
      "862        S  \n",
      "863        S  \n",
      "864        S  \n",
      "865        S  \n",
      "866        C  \n",
      "867        S  \n",
      "868        S  \n",
      "869        S  \n",
      "870        S  \n",
      "871        S  \n",
      "872        S  \n",
      "873        S  \n",
      "874        C  \n",
      "875        C  \n",
      "876        S  \n",
      "877        S  \n",
      "878        S  \n",
      "879        C  \n",
      "880        S  \n",
      "881        S  \n",
      "882        S  \n",
      "883        S  \n",
      "884        S  \n",
      "885        Q  \n",
      "886        S  \n",
      "887        S  \n",
      "888        S  \n",
      "889        C  \n",
      "890        Q  \n",
      "\n",
      "[891 rows x 11 columns]\n"
     ]
    }
   ],
   "source": [
    "df = pd.read_csv('../dataset/titanic.csv')\n",
    "print df"
   ]
  },
  {
   "cell_type": "markdown",
   "metadata": {},
   "source": [
    "#### You can view the variable/column names"
   ]
  },
  {
   "cell_type": "code",
   "execution_count": 8,
   "metadata": {
    "collapsed": false
   },
   "outputs": [
    {
     "data": {
      "text/plain": [
       "['survived',\n",
       " 'pclass',\n",
       " 'name',\n",
       " 'sex',\n",
       " 'age',\n",
       " 'sibsp',\n",
       " 'parch',\n",
       " 'ticket',\n",
       " 'fare',\n",
       " 'cabin',\n",
       " 'embarked']"
      ]
     },
     "execution_count": 8,
     "metadata": {},
     "output_type": "execute_result"
    }
   ],
   "source": [
    "list(df)"
   ]
  },
  {
   "cell_type": "markdown",
   "metadata": {},
   "source": [
    "#### You can view how many data entries/cases there are"
   ]
  },
  {
   "cell_type": "code",
   "execution_count": 11,
   "metadata": {
    "collapsed": false
   },
   "outputs": [
    {
     "name": "stdout",
     "output_type": "stream",
     "text": [
      "Imported 891 rows\n"
     ]
    }
   ],
   "source": [
    "print \"Imported \" + str(len(df)) + \" rows\""
   ]
  },
  {
   "cell_type": "markdown",
   "metadata": {},
   "source": [
    "#### You can access a specific column/variable using brackets and the column name in quotations"
   ]
  },
  {
   "cell_type": "code",
   "execution_count": 13,
   "metadata": {
    "collapsed": false
   },
   "outputs": [
    {
     "name": "stdout",
     "output_type": "stream",
     "text": [
      "0        male\n",
      "1      female\n",
      "2      female\n",
      "3      female\n",
      "4        male\n",
      "5        male\n",
      "6        male\n",
      "7        male\n",
      "8      female\n",
      "9      female\n",
      "10     female\n",
      "11     female\n",
      "12       male\n",
      "13       male\n",
      "14     female\n",
      "15     female\n",
      "16       male\n",
      "17       male\n",
      "18     female\n",
      "19     female\n",
      "20       male\n",
      "21       male\n",
      "22     female\n",
      "23       male\n",
      "24     female\n",
      "25     female\n",
      "26       male\n",
      "27       male\n",
      "28     female\n",
      "29       male\n",
      "        ...  \n",
      "861      male\n",
      "862    female\n",
      "863    female\n",
      "864      male\n",
      "865    female\n",
      "866    female\n",
      "867      male\n",
      "868      male\n",
      "869      male\n",
      "870      male\n",
      "871    female\n",
      "872      male\n",
      "873      male\n",
      "874    female\n",
      "875    female\n",
      "876      male\n",
      "877      male\n",
      "878      male\n",
      "879    female\n",
      "880    female\n",
      "881      male\n",
      "882    female\n",
      "883      male\n",
      "884      male\n",
      "885    female\n",
      "886      male\n",
      "887    female\n",
      "888    female\n",
      "889      male\n",
      "890      male\n",
      "Name: sex, dtype: object\n"
     ]
    }
   ],
   "source": [
    "print df['sex']"
   ]
  },
  {
   "cell_type": "markdown",
   "metadata": {},
   "source": [
    "#### You can also access multiple columns at once"
   ]
  },
  {
   "cell_type": "code",
   "execution_count": 17,
   "metadata": {
    "collapsed": false
   },
   "outputs": [
    {
     "ename": "TypeError",
     "evalue": "unhashable type: 'list'",
     "output_type": "error",
     "traceback": [
      "\u001b[0;31m---------------------------------------------------------------------------\u001b[0m",
      "\u001b[0;31mTypeError\u001b[0m                                 Traceback (most recent call last)",
      "\u001b[0;32m<ipython-input-17-c851763e083d>\u001b[0m in \u001b[0;36m<module>\u001b[0;34m()\u001b[0m\n\u001b[1;32m      1\u001b[0m \u001b[1;33m\u001b[0m\u001b[0m\n\u001b[0;32m----> 2\u001b[0;31m \u001b[1;32mprint\u001b[0m \u001b[0mdf\u001b[0m\u001b[1;33m[\u001b[0m\u001b[1;33m[\u001b[0m\u001b[1;34m\"sex\"\u001b[0m\u001b[1;33m]\u001b[0m\u001b[1;33m,\u001b[0m\u001b[1;36m1\u001b[0m\u001b[1;33m]\u001b[0m\u001b[1;33m\u001b[0m\u001b[0m\n\u001b[0m",
      "\u001b[0;32mC:\\Users\\davet\\Anaconda2\\lib\\site-packages\\pandas\\core\\frame.pyc\u001b[0m in \u001b[0;36m__getitem__\u001b[0;34m(self, key)\u001b[0m\n\u001b[1;32m   2057\u001b[0m             \u001b[1;32mreturn\u001b[0m \u001b[0mself\u001b[0m\u001b[1;33m.\u001b[0m\u001b[0m_getitem_multilevel\u001b[0m\u001b[1;33m(\u001b[0m\u001b[0mkey\u001b[0m\u001b[1;33m)\u001b[0m\u001b[1;33m\u001b[0m\u001b[0m\n\u001b[1;32m   2058\u001b[0m         \u001b[1;32melse\u001b[0m\u001b[1;33m:\u001b[0m\u001b[1;33m\u001b[0m\u001b[0m\n\u001b[0;32m-> 2059\u001b[0;31m             \u001b[1;32mreturn\u001b[0m \u001b[0mself\u001b[0m\u001b[1;33m.\u001b[0m\u001b[0m_getitem_column\u001b[0m\u001b[1;33m(\u001b[0m\u001b[0mkey\u001b[0m\u001b[1;33m)\u001b[0m\u001b[1;33m\u001b[0m\u001b[0m\n\u001b[0m\u001b[1;32m   2060\u001b[0m \u001b[1;33m\u001b[0m\u001b[0m\n\u001b[1;32m   2061\u001b[0m     \u001b[1;32mdef\u001b[0m \u001b[0m_getitem_column\u001b[0m\u001b[1;33m(\u001b[0m\u001b[0mself\u001b[0m\u001b[1;33m,\u001b[0m \u001b[0mkey\u001b[0m\u001b[1;33m)\u001b[0m\u001b[1;33m:\u001b[0m\u001b[1;33m\u001b[0m\u001b[0m\n",
      "\u001b[0;32mC:\\Users\\davet\\Anaconda2\\lib\\site-packages\\pandas\\core\\frame.pyc\u001b[0m in \u001b[0;36m_getitem_column\u001b[0;34m(self, key)\u001b[0m\n\u001b[1;32m   2064\u001b[0m         \u001b[1;31m# get column\u001b[0m\u001b[1;33m\u001b[0m\u001b[1;33m\u001b[0m\u001b[0m\n\u001b[1;32m   2065\u001b[0m         \u001b[1;32mif\u001b[0m \u001b[0mself\u001b[0m\u001b[1;33m.\u001b[0m\u001b[0mcolumns\u001b[0m\u001b[1;33m.\u001b[0m\u001b[0mis_unique\u001b[0m\u001b[1;33m:\u001b[0m\u001b[1;33m\u001b[0m\u001b[0m\n\u001b[0;32m-> 2066\u001b[0;31m             \u001b[1;32mreturn\u001b[0m \u001b[0mself\u001b[0m\u001b[1;33m.\u001b[0m\u001b[0m_get_item_cache\u001b[0m\u001b[1;33m(\u001b[0m\u001b[0mkey\u001b[0m\u001b[1;33m)\u001b[0m\u001b[1;33m\u001b[0m\u001b[0m\n\u001b[0m\u001b[1;32m   2067\u001b[0m \u001b[1;33m\u001b[0m\u001b[0m\n\u001b[1;32m   2068\u001b[0m         \u001b[1;31m# duplicate columns & possible reduce dimensionality\u001b[0m\u001b[1;33m\u001b[0m\u001b[1;33m\u001b[0m\u001b[0m\n",
      "\u001b[0;32mC:\\Users\\davet\\Anaconda2\\lib\\site-packages\\pandas\\core\\generic.pyc\u001b[0m in \u001b[0;36m_get_item_cache\u001b[0;34m(self, item)\u001b[0m\n\u001b[1;32m   1382\u001b[0m         \u001b[1;34m\"\"\"Return the cached item, item represents a label indexer.\"\"\"\u001b[0m\u001b[1;33m\u001b[0m\u001b[0m\n\u001b[1;32m   1383\u001b[0m         \u001b[0mcache\u001b[0m \u001b[1;33m=\u001b[0m \u001b[0mself\u001b[0m\u001b[1;33m.\u001b[0m\u001b[0m_item_cache\u001b[0m\u001b[1;33m\u001b[0m\u001b[0m\n\u001b[0;32m-> 1384\u001b[0;31m         \u001b[0mres\u001b[0m \u001b[1;33m=\u001b[0m \u001b[0mcache\u001b[0m\u001b[1;33m.\u001b[0m\u001b[0mget\u001b[0m\u001b[1;33m(\u001b[0m\u001b[0mitem\u001b[0m\u001b[1;33m)\u001b[0m\u001b[1;33m\u001b[0m\u001b[0m\n\u001b[0m\u001b[1;32m   1385\u001b[0m         \u001b[1;32mif\u001b[0m \u001b[0mres\u001b[0m \u001b[1;32mis\u001b[0m \u001b[0mNone\u001b[0m\u001b[1;33m:\u001b[0m\u001b[1;33m\u001b[0m\u001b[0m\n\u001b[1;32m   1386\u001b[0m             \u001b[0mvalues\u001b[0m \u001b[1;33m=\u001b[0m \u001b[0mself\u001b[0m\u001b[1;33m.\u001b[0m\u001b[0m_data\u001b[0m\u001b[1;33m.\u001b[0m\u001b[0mget\u001b[0m\u001b[1;33m(\u001b[0m\u001b[0mitem\u001b[0m\u001b[1;33m)\u001b[0m\u001b[1;33m\u001b[0m\u001b[0m\n",
      "\u001b[0;31mTypeError\u001b[0m: unhashable type: 'list'"
     ]
    }
   ],
   "source": [
    "\n",
    "print df[[\"sex\"],1]"
   ]
  },
  {
   "cell_type": "markdown",
   "metadata": {},
   "source": [
    "#### You can view either the first N or last N set of rows"
   ]
  },
  {
   "cell_type": "code",
   "execution_count": 19,
   "metadata": {
    "collapsed": false
   },
   "outputs": [
    {
     "name": "stdout",
     "output_type": "stream",
     "text": [
      "   survived  pclass                                               name  \\\n",
      "0         0       3                            Braund, Mr. Owen Harris   \n",
      "1         1       1  Cumings, Mrs. John Bradley (Florence Briggs Th...   \n",
      "2         1       3                             Heikkinen, Miss. Laina   \n",
      "3         1       1       Futrelle, Mrs. Jacques Heath (Lily May Peel)   \n",
      "4         0       3                           Allen, Mr. William Henry   \n",
      "5         0       3                                   Moran, Mr. James   \n",
      "6         0       1                            McCarthy, Mr. Timothy J   \n",
      "7         0       3                     Palsson, Master. Gosta Leonard   \n",
      "8         1       3  Johnson, Mrs. Oscar W (Elisabeth Vilhelmina Berg)   \n",
      "9         1       2                Nasser, Mrs. Nicholas (Adele Achem)   \n",
      "\n",
      "      sex   age  sibsp  parch            ticket     fare cabin embarked  \n",
      "0    male  22.0      1      0         A/5 21171   7.2500   NaN        S  \n",
      "1  female  38.0      1      0          PC 17599  71.2833   C85        C  \n",
      "2  female  26.0      0      0  STON/O2. 3101282   7.9250   NaN        S  \n",
      "3  female  35.0      1      0            113803  53.1000  C123        S  \n",
      "4    male  35.0      0      0            373450   8.0500   NaN        S  \n",
      "5    male   NaN      0      0            330877   8.4583   NaN        Q  \n",
      "6    male  54.0      0      0             17463  51.8625   E46        S  \n",
      "7    male   2.0      3      1            349909  21.0750   NaN        S  \n",
      "8  female  27.0      0      2            347742  11.1333   NaN        S  \n",
      "9  female  14.0      1      0            237736  30.0708   NaN        C  \n"
     ]
    }
   ],
   "source": [
    "print df.head(10)"
   ]
  },
  {
   "cell_type": "code",
   "execution_count": 20,
   "metadata": {
    "collapsed": false
   },
   "outputs": [
    {
     "name": "stdout",
     "output_type": "stream",
     "text": [
      "     survived  pclass                                      name     sex   age  \\\n",
      "885         0       3      Rice, Mrs. William (Margaret Norton)  female  39.0   \n",
      "886         0       2                     Montvila, Rev. Juozas    male  27.0   \n",
      "887         1       1              Graham, Miss. Margaret Edith  female  19.0   \n",
      "888         0       3  Johnston, Miss. Catherine Helen \"Carrie\"  female   NaN   \n",
      "889         1       1                     Behr, Mr. Karl Howell    male  26.0   \n",
      "890         0       3                       Dooley, Mr. Patrick    male  32.0   \n",
      "\n",
      "     sibsp  parch      ticket    fare cabin embarked  \n",
      "885      0      5      382652  29.125   NaN        Q  \n",
      "886      0      0      211536  13.000   NaN        S  \n",
      "887      0      0      112053  30.000   B42        S  \n",
      "888      1      2  W./C. 6607  23.450   NaN        S  \n",
      "889      0      0      111369  30.000  C148        C  \n",
      "890      0      0      370376   7.750   NaN        Q  \n"
     ]
    }
   ],
   "source": [
    "N = 6\n",
    "print df.tail(N)"
   ]
  },
  {
   "cell_type": "markdown",
   "metadata": {},
   "source": [
    "#### You can recode a variable by mapping on the old value to new values"
   ]
  },
  {
   "cell_type": "code",
   "execution_count": 26,
   "metadata": {
    "collapsed": false,
    "scrolled": false
   },
   "outputs": [
    {
     "data": {
      "text/plain": [
       "0       lower\n",
       "1       upper\n",
       "2       lower\n",
       "3       upper\n",
       "4       lower\n",
       "5       lower\n",
       "6       upper\n",
       "7       lower\n",
       "8       lower\n",
       "9      middle\n",
       "10      lower\n",
       "11      upper\n",
       "12      lower\n",
       "13      lower\n",
       "14      lower\n",
       "15     middle\n",
       "16      lower\n",
       "17     middle\n",
       "18      lower\n",
       "19      lower\n",
       "20     middle\n",
       "21     middle\n",
       "22      lower\n",
       "23      upper\n",
       "24      lower\n",
       "25      lower\n",
       "26      lower\n",
       "27      upper\n",
       "28      lower\n",
       "29      lower\n",
       "        ...  \n",
       "861    middle\n",
       "862     upper\n",
       "863     lower\n",
       "864    middle\n",
       "865    middle\n",
       "866    middle\n",
       "867     upper\n",
       "868     lower\n",
       "869     lower\n",
       "870     lower\n",
       "871     upper\n",
       "872     upper\n",
       "873     lower\n",
       "874    middle\n",
       "875     lower\n",
       "876     lower\n",
       "877     lower\n",
       "878     lower\n",
       "879     upper\n",
       "880    middle\n",
       "881     lower\n",
       "882     lower\n",
       "883    middle\n",
       "884     lower\n",
       "885     lower\n",
       "886    middle\n",
       "887     upper\n",
       "888     lower\n",
       "889     upper\n",
       "890     lower\n",
       "Name: pclass, dtype: object"
      ]
     },
     "execution_count": 26,
     "metadata": {},
     "output_type": "execute_result"
    }
   ],
   "source": [
    "df[\"pclass\"].replace({1: 'upper', 2 : 'middle', 3 : \"lower\"})"
   ]
  },
  {
   "cell_type": "code",
   "execution_count": 25,
   "metadata": {
    "collapsed": false
   },
   "outputs": [
    {
     "name": "stdout",
     "output_type": "stream",
     "text": [
      "     survived  pclass                                               name  \\\n",
      "0           0   lower                            Braund, Mr. Owen Harris   \n",
      "1           1   upper  Cumings, Mrs. John Bradley (Florence Briggs Th...   \n",
      "2           1   lower                             Heikkinen, Miss. Laina   \n",
      "3           1   upper       Futrelle, Mrs. Jacques Heath (Lily May Peel)   \n",
      "4           0   lower                           Allen, Mr. William Henry   \n",
      "5           0   lower                                   Moran, Mr. James   \n",
      "6           0   upper                            McCarthy, Mr. Timothy J   \n",
      "7           0   lower                     Palsson, Master. Gosta Leonard   \n",
      "8           1   lower  Johnson, Mrs. Oscar W (Elisabeth Vilhelmina Berg)   \n",
      "9           1  middle                Nasser, Mrs. Nicholas (Adele Achem)   \n",
      "10          1   lower                    Sandstrom, Miss. Marguerite Rut   \n",
      "11          1   upper                           Bonnell, Miss. Elizabeth   \n",
      "12          0   lower                     Saundercock, Mr. William Henry   \n",
      "13          0   lower                        Andersson, Mr. Anders Johan   \n",
      "14          0   lower               Vestrom, Miss. Hulda Amanda Adolfina   \n",
      "15          1  middle                   Hewlett, Mrs. (Mary D Kingcome)    \n",
      "16          0   lower                               Rice, Master. Eugene   \n",
      "17          1  middle                       Williams, Mr. Charles Eugene   \n",
      "18          0   lower  Vander Planke, Mrs. Julius (Emelia Maria Vande...   \n",
      "19          1   lower                            Masselmani, Mrs. Fatima   \n",
      "20          0  middle                               Fynney, Mr. Joseph J   \n",
      "21          1  middle                              Beesley, Mr. Lawrence   \n",
      "22          1   lower                        McGowan, Miss. Anna \"Annie\"   \n",
      "23          1   upper                       Sloper, Mr. William Thompson   \n",
      "24          0   lower                      Palsson, Miss. Torborg Danira   \n",
      "25          1   lower  Asplund, Mrs. Carl Oscar (Selma Augusta Emilia...   \n",
      "26          0   lower                            Emir, Mr. Farred Chehab   \n",
      "27          0   upper                     Fortune, Mr. Charles Alexander   \n",
      "28          1   lower                      O'Dwyer, Miss. Ellen \"Nellie\"   \n",
      "29          0   lower                                Todoroff, Mr. Lalio   \n",
      "..        ...     ...                                                ...   \n",
      "861         0  middle                        Giles, Mr. Frederick Edward   \n",
      "862         1   upper  Swift, Mrs. Frederick Joel (Margaret Welles Ba...   \n",
      "863         0   lower                  Sage, Miss. Dorothy Edith \"Dolly\"   \n",
      "864         0  middle                             Gill, Mr. John William   \n",
      "865         1  middle                           Bystrom, Mrs. (Karolina)   \n",
      "866         1  middle                       Duran y More, Miss. Asuncion   \n",
      "867         0   upper               Roebling, Mr. Washington Augustus II   \n",
      "868         0   lower                        van Melkebeke, Mr. Philemon   \n",
      "869         1   lower                    Johnson, Master. Harold Theodor   \n",
      "870         0   lower                                  Balkic, Mr. Cerin   \n",
      "871         1   upper   Beckwith, Mrs. Richard Leonard (Sallie Monypeny)   \n",
      "872         0   upper                           Carlsson, Mr. Frans Olof   \n",
      "873         0   lower                        Vander Cruyssen, Mr. Victor   \n",
      "874         1  middle              Abelson, Mrs. Samuel (Hannah Wizosky)   \n",
      "875         1   lower                   Najib, Miss. Adele Kiamie \"Jane\"   \n",
      "876         0   lower                      Gustafsson, Mr. Alfred Ossian   \n",
      "877         0   lower                               Petroff, Mr. Nedelio   \n",
      "878         0   lower                                 Laleff, Mr. Kristo   \n",
      "879         1   upper      Potter, Mrs. Thomas Jr (Lily Alexenia Wilson)   \n",
      "880         1  middle       Shelley, Mrs. William (Imanita Parrish Hall)   \n",
      "881         0   lower                                 Markun, Mr. Johann   \n",
      "882         0   lower                       Dahlberg, Miss. Gerda Ulrika   \n",
      "883         0  middle                      Banfield, Mr. Frederick James   \n",
      "884         0   lower                             Sutehall, Mr. Henry Jr   \n",
      "885         0   lower               Rice, Mrs. William (Margaret Norton)   \n",
      "886         0  middle                              Montvila, Rev. Juozas   \n",
      "887         1   upper                       Graham, Miss. Margaret Edith   \n",
      "888         0   lower           Johnston, Miss. Catherine Helen \"Carrie\"   \n",
      "889         1   upper                              Behr, Mr. Karl Howell   \n",
      "890         0   lower                                Dooley, Mr. Patrick   \n",
      "\n",
      "        sex   age  sibsp  parch            ticket      fare        cabin  \\\n",
      "0      male  22.0      1      0         A/5 21171    7.2500          NaN   \n",
      "1    female  38.0      1      0          PC 17599   71.2833          C85   \n",
      "2    female  26.0      0      0  STON/O2. 3101282    7.9250          NaN   \n",
      "3    female  35.0      1      0            113803   53.1000         C123   \n",
      "4      male  35.0      0      0            373450    8.0500          NaN   \n",
      "5      male   NaN      0      0            330877    8.4583          NaN   \n",
      "6      male  54.0      0      0             17463   51.8625          E46   \n",
      "7      male   2.0      3      1            349909   21.0750          NaN   \n",
      "8    female  27.0      0      2            347742   11.1333          NaN   \n",
      "9    female  14.0      1      0            237736   30.0708          NaN   \n",
      "10   female   4.0      1      1           PP 9549   16.7000           G6   \n",
      "11   female  58.0      0      0            113783   26.5500         C103   \n",
      "12     male  20.0      0      0         A/5. 2151    8.0500          NaN   \n",
      "13     male  39.0      1      5            347082   31.2750          NaN   \n",
      "14   female  14.0      0      0            350406    7.8542          NaN   \n",
      "15   female  55.0      0      0            248706   16.0000          NaN   \n",
      "16     male   2.0      4      1            382652   29.1250          NaN   \n",
      "17     male   NaN      0      0            244373   13.0000          NaN   \n",
      "18   female  31.0      1      0            345763   18.0000          NaN   \n",
      "19   female   NaN      0      0              2649    7.2250          NaN   \n",
      "20     male  35.0      0      0            239865   26.0000          NaN   \n",
      "21     male  34.0      0      0            248698   13.0000          D56   \n",
      "22   female  15.0      0      0            330923    8.0292          NaN   \n",
      "23     male  28.0      0      0            113788   35.5000           A6   \n",
      "24   female   8.0      3      1            349909   21.0750          NaN   \n",
      "25   female  38.0      1      5            347077   31.3875          NaN   \n",
      "26     male   NaN      0      0              2631    7.2250          NaN   \n",
      "27     male  19.0      3      2             19950  263.0000  C23 C25 C27   \n",
      "28   female   NaN      0      0            330959    7.8792          NaN   \n",
      "29     male   NaN      0      0            349216    7.8958          NaN   \n",
      "..      ...   ...    ...    ...               ...       ...          ...   \n",
      "861    male  21.0      1      0             28134   11.5000          NaN   \n",
      "862  female  48.0      0      0             17466   25.9292          D17   \n",
      "863  female   NaN      8      2          CA. 2343   69.5500          NaN   \n",
      "864    male  24.0      0      0            233866   13.0000          NaN   \n",
      "865  female  42.0      0      0            236852   13.0000          NaN   \n",
      "866  female  27.0      1      0     SC/PARIS 2149   13.8583          NaN   \n",
      "867    male  31.0      0      0          PC 17590   50.4958          A24   \n",
      "868    male   NaN      0      0            345777    9.5000          NaN   \n",
      "869    male   4.0      1      1            347742   11.1333          NaN   \n",
      "870    male  26.0      0      0            349248    7.8958          NaN   \n",
      "871  female  47.0      1      1             11751   52.5542          D35   \n",
      "872    male  33.0      0      0               695    5.0000  B51 B53 B55   \n",
      "873    male  47.0      0      0            345765    9.0000          NaN   \n",
      "874  female  28.0      1      0         P/PP 3381   24.0000          NaN   \n",
      "875  female  15.0      0      0              2667    7.2250          NaN   \n",
      "876    male  20.0      0      0              7534    9.8458          NaN   \n",
      "877    male  19.0      0      0            349212    7.8958          NaN   \n",
      "878    male   NaN      0      0            349217    7.8958          NaN   \n",
      "879  female  56.0      0      1             11767   83.1583          C50   \n",
      "880  female  25.0      0      1            230433   26.0000          NaN   \n",
      "881    male  33.0      0      0            349257    7.8958          NaN   \n",
      "882  female  22.0      0      0              7552   10.5167          NaN   \n",
      "883    male  28.0      0      0  C.A./SOTON 34068   10.5000          NaN   \n",
      "884    male  25.0      0      0   SOTON/OQ 392076    7.0500          NaN   \n",
      "885  female  39.0      0      5            382652   29.1250          NaN   \n",
      "886    male  27.0      0      0            211536   13.0000          NaN   \n",
      "887  female  19.0      0      0            112053   30.0000          B42   \n",
      "888  female   NaN      1      2        W./C. 6607   23.4500          NaN   \n",
      "889    male  26.0      0      0            111369   30.0000         C148   \n",
      "890    male  32.0      0      0            370376    7.7500          NaN   \n",
      "\n",
      "    embarked  pclass-orig  \n",
      "0          S            3  \n",
      "1          C            1  \n",
      "2          S            3  \n",
      "3          S            1  \n",
      "4          S            3  \n",
      "5          Q            3  \n",
      "6          S            1  \n",
      "7          S            3  \n",
      "8          S            3  \n",
      "9          C            2  \n",
      "10         S            3  \n",
      "11         S            1  \n",
      "12         S            3  \n",
      "13         S            3  \n",
      "14         S            3  \n",
      "15         S            2  \n",
      "16         Q            3  \n",
      "17         S            2  \n",
      "18         S            3  \n",
      "19         C            3  \n",
      "20         S            2  \n",
      "21         S            2  \n",
      "22         Q            3  \n",
      "23         S            1  \n",
      "24         S            3  \n",
      "25         S            3  \n",
      "26         C            3  \n",
      "27         S            1  \n",
      "28         Q            3  \n",
      "29         S            3  \n",
      "..       ...          ...  \n",
      "861        S            2  \n",
      "862        S            1  \n",
      "863        S            3  \n",
      "864        S            2  \n",
      "865        S            2  \n",
      "866        C            2  \n",
      "867        S            1  \n",
      "868        S            3  \n",
      "869        S            3  \n",
      "870        S            3  \n",
      "871        S            1  \n",
      "872        S            1  \n",
      "873        S            3  \n",
      "874        C            2  \n",
      "875        C            3  \n",
      "876        S            3  \n",
      "877        S            3  \n",
      "878        S            3  \n",
      "879        C            1  \n",
      "880        S            2  \n",
      "881        S            3  \n",
      "882        S            3  \n",
      "883        S            2  \n",
      "884        S            3  \n",
      "885        Q            3  \n",
      "886        S            2  \n",
      "887        S            1  \n",
      "888        S            3  \n",
      "889        C            1  \n",
      "890        Q            3  \n",
      "\n",
      "[891 rows x 12 columns]\n"
     ]
    }
   ],
   "source": [
    "print df"
   ]
  },
  {
   "cell_type": "code",
   "execution_count": 29,
   "metadata": {
    "collapsed": false
   },
   "outputs": [],
   "source": [
    "df[\"hi dave\"] = 9"
   ]
  },
  {
   "cell_type": "markdown",
   "metadata": {},
   "source": [
    "#### You can create new variables"
   ]
  },
  {
   "cell_type": "code",
   "execution_count": 33,
   "metadata": {
    "collapsed": false
   },
   "outputs": [
    {
     "name": "stdout",
     "output_type": "stream",
     "text": [
      "     sibsp  parch  familymembers\n",
      "0        1      0              1\n",
      "1        1      0              1\n",
      "2        0      0              0\n",
      "3        1      0              1\n",
      "4        0      0              0\n",
      "5        0      0              0\n",
      "6        0      0              0\n",
      "7        3      1              4\n",
      "8        0      2              2\n",
      "9        1      0              1\n",
      "10       1      1              2\n",
      "11       0      0              0\n",
      "12       0      0              0\n",
      "13       1      5              6\n",
      "14       0      0              0\n",
      "15       0      0              0\n",
      "16       4      1              5\n",
      "17       0      0              0\n",
      "18       1      0              1\n",
      "19       0      0              0\n",
      "20       0      0              0\n",
      "21       0      0              0\n",
      "22       0      0              0\n",
      "23       0      0              0\n",
      "24       3      1              4\n",
      "25       1      5              6\n",
      "26       0      0              0\n",
      "27       3      2              5\n",
      "28       0      0              0\n",
      "29       0      0              0\n",
      "..     ...    ...            ...\n",
      "861      1      0              1\n",
      "862      0      0              0\n",
      "863      8      2             10\n",
      "864      0      0              0\n",
      "865      0      0              0\n",
      "866      1      0              1\n",
      "867      0      0              0\n",
      "868      0      0              0\n",
      "869      1      1              2\n",
      "870      0      0              0\n",
      "871      1      1              2\n",
      "872      0      0              0\n",
      "873      0      0              0\n",
      "874      1      0              1\n",
      "875      0      0              0\n",
      "876      0      0              0\n",
      "877      0      0              0\n",
      "878      0      0              0\n",
      "879      0      1              1\n",
      "880      0      1              1\n",
      "881      0      0              0\n",
      "882      0      0              0\n",
      "883      0      0              0\n",
      "884      0      0              0\n",
      "885      0      5              5\n",
      "886      0      0              0\n",
      "887      0      0              0\n",
      "888      1      2              3\n",
      "889      0      0              0\n",
      "890      0      0              0\n",
      "\n",
      "[891 rows x 3 columns]\n"
     ]
    }
   ],
   "source": [
    "df[\"familymembers\"] = df[\"sibsp\"] + df[\"parch\"] \n",
    "print df[[\"sibsp\",\"parch\",\"familymembers\"]]"
   ]
  },
  {
   "cell_type": "markdown",
   "metadata": {},
   "source": [
    "#### You can code variables by their range"
   ]
  },
  {
   "cell_type": "code",
   "execution_count": 34,
   "metadata": {
    "collapsed": false
   },
   "outputs": [
    {
     "data": {
      "text/plain": [
       "0        1\n",
       "1        1\n",
       "2        0\n",
       "3        1\n",
       "4        0\n",
       "5        0\n",
       "6        0\n",
       "7       16\n",
       "8        4\n",
       "9        1\n",
       "10       4\n",
       "11       0\n",
       "12       0\n",
       "13      36\n",
       "14       0\n",
       "15       0\n",
       "16      25\n",
       "17       0\n",
       "18       1\n",
       "19       0\n",
       "20       0\n",
       "21       0\n",
       "22       0\n",
       "23       0\n",
       "24      16\n",
       "25      36\n",
       "26       0\n",
       "27      25\n",
       "28       0\n",
       "29       0\n",
       "      ... \n",
       "861      1\n",
       "862      0\n",
       "863    100\n",
       "864      0\n",
       "865      0\n",
       "866      1\n",
       "867      0\n",
       "868      0\n",
       "869      4\n",
       "870      0\n",
       "871      4\n",
       "872      0\n",
       "873      0\n",
       "874      1\n",
       "875      0\n",
       "876      0\n",
       "877      0\n",
       "878      0\n",
       "879      1\n",
       "880      1\n",
       "881      0\n",
       "882      0\n",
       "883      0\n",
       "884      0\n",
       "885     25\n",
       "886      0\n",
       "887      0\n",
       "888      9\n",
       "889      0\n",
       "890      0\n",
       "Name: familymembers, dtype: int64"
      ]
     },
     "execution_count": 34,
     "metadata": {},
     "output_type": "execute_result"
    }
   ],
   "source": [
    "df['familymembers'].apply(lambda x: x)"
   ]
  },
  {
   "cell_type": "markdown",
   "metadata": {},
   "source": [
    "#### You can combine two different data sources that share a common attribute (e.g., \"name\")"
   ]
  },
  {
   "cell_type": "code",
   "execution_count": 35,
   "metadata": {
    "collapsed": false
   },
   "outputs": [
    {
     "name": "stdout",
     "output_type": "stream",
     "text": [
      "                                                  name  survived      fare\n",
      "0                              Braund, Mr. Owen Harris         0    7.2500\n",
      "1    Cumings, Mrs. John Bradley (Florence Briggs Th...         1   71.2833\n",
      "2                               Heikkinen, Miss. Laina         1    7.9250\n",
      "3         Futrelle, Mrs. Jacques Heath (Lily May Peel)         1   53.1000\n",
      "4                             Allen, Mr. William Henry         0    8.0500\n",
      "5                                     Moran, Mr. James         0    8.4583\n",
      "6                              McCarthy, Mr. Timothy J         0   51.8625\n",
      "7                       Palsson, Master. Gosta Leonard         0   21.0750\n",
      "8    Johnson, Mrs. Oscar W (Elisabeth Vilhelmina Berg)         1   11.1333\n",
      "9                  Nasser, Mrs. Nicholas (Adele Achem)         1   30.0708\n",
      "10                     Sandstrom, Miss. Marguerite Rut         1   16.7000\n",
      "11                            Bonnell, Miss. Elizabeth         1   26.5500\n",
      "12                      Saundercock, Mr. William Henry         0    8.0500\n",
      "13                         Andersson, Mr. Anders Johan         0   31.2750\n",
      "14                Vestrom, Miss. Hulda Amanda Adolfina         0    7.8542\n",
      "15                    Hewlett, Mrs. (Mary D Kingcome)          1   16.0000\n",
      "16                                Rice, Master. Eugene         0   29.1250\n",
      "17                        Williams, Mr. Charles Eugene         1   13.0000\n",
      "18   Vander Planke, Mrs. Julius (Emelia Maria Vande...         0   18.0000\n",
      "19                             Masselmani, Mrs. Fatima         1    7.2250\n",
      "20                                Fynney, Mr. Joseph J         0   26.0000\n",
      "21                               Beesley, Mr. Lawrence         1   13.0000\n",
      "22                         McGowan, Miss. Anna \"Annie\"         1    8.0292\n",
      "23                        Sloper, Mr. William Thompson         1   35.5000\n",
      "24                       Palsson, Miss. Torborg Danira         0   21.0750\n",
      "25   Asplund, Mrs. Carl Oscar (Selma Augusta Emilia...         1   31.3875\n",
      "26                             Emir, Mr. Farred Chehab         0    7.2250\n",
      "27                      Fortune, Mr. Charles Alexander         0  263.0000\n",
      "28                       O'Dwyer, Miss. Ellen \"Nellie\"         1    7.8792\n",
      "29                                 Todoroff, Mr. Lalio         0    7.8958\n",
      "..                                                 ...       ...       ...\n",
      "861                        Giles, Mr. Frederick Edward         0   11.5000\n",
      "862  Swift, Mrs. Frederick Joel (Margaret Welles Ba...         1   25.9292\n",
      "863                  Sage, Miss. Dorothy Edith \"Dolly\"         0   69.5500\n",
      "864                             Gill, Mr. John William         0   13.0000\n",
      "865                           Bystrom, Mrs. (Karolina)         1   13.0000\n",
      "866                       Duran y More, Miss. Asuncion         1   13.8583\n",
      "867               Roebling, Mr. Washington Augustus II         0   50.4958\n",
      "868                        van Melkebeke, Mr. Philemon         0    9.5000\n",
      "869                    Johnson, Master. Harold Theodor         1   11.1333\n",
      "870                                  Balkic, Mr. Cerin         0    7.8958\n",
      "871   Beckwith, Mrs. Richard Leonard (Sallie Monypeny)         1   52.5542\n",
      "872                           Carlsson, Mr. Frans Olof         0    5.0000\n",
      "873                        Vander Cruyssen, Mr. Victor         0    9.0000\n",
      "874              Abelson, Mrs. Samuel (Hannah Wizosky)         1   24.0000\n",
      "875                   Najib, Miss. Adele Kiamie \"Jane\"         1    7.2250\n",
      "876                      Gustafsson, Mr. Alfred Ossian         0    9.8458\n",
      "877                               Petroff, Mr. Nedelio         0    7.8958\n",
      "878                                 Laleff, Mr. Kristo         0    7.8958\n",
      "879      Potter, Mrs. Thomas Jr (Lily Alexenia Wilson)         1   83.1583\n",
      "880       Shelley, Mrs. William (Imanita Parrish Hall)         1   26.0000\n",
      "881                                 Markun, Mr. Johann         0    7.8958\n",
      "882                       Dahlberg, Miss. Gerda Ulrika         0   10.5167\n",
      "883                      Banfield, Mr. Frederick James         0   10.5000\n",
      "884                             Sutehall, Mr. Henry Jr         0    7.0500\n",
      "885               Rice, Mrs. William (Margaret Norton)         0   29.1250\n",
      "886                              Montvila, Rev. Juozas         0   13.0000\n",
      "887                       Graham, Miss. Margaret Edith         1   30.0000\n",
      "888           Johnston, Miss. Catherine Helen \"Carrie\"         0   23.4500\n",
      "889                              Behr, Mr. Karl Howell         1   30.0000\n",
      "890                                Dooley, Mr. Patrick         0    7.7500\n",
      "\n",
      "[891 rows x 3 columns]\n"
     ]
    }
   ],
   "source": [
    "survivors = df[[\"name\",\"survived\"]]\n",
    "\n",
    "ticketprices = df[[\"name\",\"fare\"]]\n",
    "\n",
    "merged = survivors.merge(ticketprices, left_on=\"name\", right_on=\"name\")\n",
    "\n",
    "print merged\n",
    "\n"
   ]
  },
  {
   "cell_type": "markdown",
   "metadata": {},
   "source": [
    "## Examine Categorical Variables for Irregularities"
   ]
  },
  {
   "cell_type": "markdown",
   "metadata": {},
   "source": [
    "#### Examine the different values entered"
   ]
  },
  {
   "cell_type": "code",
   "execution_count": 36,
   "metadata": {
    "collapsed": false
   },
   "outputs": [
    {
     "data": {
      "text/plain": [
       "array(['male', 'female'], dtype=object)"
      ]
     },
     "execution_count": 36,
     "metadata": {},
     "output_type": "execute_result"
    }
   ],
   "source": [
    "pd.unique(df[\"sex\"])"
   ]
  },
  {
   "cell_type": "markdown",
   "metadata": {},
   "source": [
    "#### Make all string values lowercase"
   ]
  },
  {
   "cell_type": "code",
   "execution_count": 28,
   "metadata": {
    "collapsed": false
   },
   "outputs": [
    {
     "name": "stdout",
     "output_type": "stream",
     "text": [
      "0                                braund, mr. owen harris\n",
      "1      cumings, mrs. john bradley (florence briggs th...\n",
      "2                                 heikkinen, miss. laina\n",
      "3           futrelle, mrs. jacques heath (lily may peel)\n",
      "4                               allen, mr. william henry\n",
      "5                                       moran, mr. james\n",
      "6                                mccarthy, mr. timothy j\n",
      "7                         palsson, master. gosta leonard\n",
      "8      johnson, mrs. oscar w (elisabeth vilhelmina berg)\n",
      "9                    nasser, mrs. nicholas (adele achem)\n",
      "10                       sandstrom, miss. marguerite rut\n",
      "11                              bonnell, miss. elizabeth\n",
      "12                        saundercock, mr. william henry\n",
      "13                           andersson, mr. anders johan\n",
      "14                  vestrom, miss. hulda amanda adolfina\n",
      "15                      hewlett, mrs. (mary d kingcome) \n",
      "16                                  rice, master. eugene\n",
      "17                          williams, mr. charles eugene\n",
      "18     vander planke, mrs. julius (emelia maria vande...\n",
      "19                               masselmani, mrs. fatima\n",
      "20                                  fynney, mr. joseph j\n",
      "21                                 beesley, mr. lawrence\n",
      "22                           mcgowan, miss. anna \"annie\"\n",
      "23                          sloper, mr. william thompson\n",
      "24                         palsson, miss. torborg danira\n",
      "25     asplund, mrs. carl oscar (selma augusta emilia...\n",
      "26                               emir, mr. farred chehab\n",
      "27                        fortune, mr. charles alexander\n",
      "28                         o'dwyer, miss. ellen \"nellie\"\n",
      "29                                   todoroff, mr. lalio\n",
      "                             ...                        \n",
      "861                          giles, mr. frederick edward\n",
      "862    swift, mrs. frederick joel (margaret welles ba...\n",
      "863                    sage, miss. dorothy edith \"dolly\"\n",
      "864                               gill, mr. john william\n",
      "865                             bystrom, mrs. (karolina)\n",
      "866                         duran y more, miss. asuncion\n",
      "867                 roebling, mr. washington augustus ii\n",
      "868                          van melkebeke, mr. philemon\n",
      "869                      johnson, master. harold theodor\n",
      "870                                    balkic, mr. cerin\n",
      "871     beckwith, mrs. richard leonard (sallie monypeny)\n",
      "872                             carlsson, mr. frans olof\n",
      "873                          vander cruyssen, mr. victor\n",
      "874                abelson, mrs. samuel (hannah wizosky)\n",
      "875                     najib, miss. adele kiamie \"jane\"\n",
      "876                        gustafsson, mr. alfred ossian\n",
      "877                                 petroff, mr. nedelio\n",
      "878                                   laleff, mr. kristo\n",
      "879        potter, mrs. thomas jr (lily alexenia wilson)\n",
      "880         shelley, mrs. william (imanita parrish hall)\n",
      "881                                   markun, mr. johann\n",
      "882                         dahlberg, miss. gerda ulrika\n",
      "883                        banfield, mr. frederick james\n",
      "884                               sutehall, mr. henry jr\n",
      "885                 rice, mrs. william (margaret norton)\n",
      "886                                montvila, rev. juozas\n",
      "887                         graham, miss. margaret edith\n",
      "888             johnston, miss. catherine helen \"carrie\"\n",
      "889                                behr, mr. karl howell\n",
      "890                                  dooley, mr. patrick\n",
      "Name: name, dtype: object\n"
     ]
    }
   ],
   "source": [
    "df['name'] = df['name'].apply(lambda x: x.lower())\n",
    "print df['name']"
   ]
  },
  {
   "cell_type": "markdown",
   "metadata": {},
   "source": [
    "#### Fix string values that might have an extra hidden spae before or after"
   ]
  },
  {
   "cell_type": "code",
   "execution_count": 29,
   "metadata": {
    "collapsed": false
   },
   "outputs": [
    {
     "name": "stdout",
     "output_type": "stream",
     "text": [
      "0                                braund, mr. owen harris\n",
      "1      cumings, mrs. john bradley (florence briggs th...\n",
      "2                                 heikkinen, miss. laina\n",
      "3           futrelle, mrs. jacques heath (lily may peel)\n",
      "4                               allen, mr. william henry\n",
      "5                                       moran, mr. james\n",
      "6                                mccarthy, mr. timothy j\n",
      "7                         palsson, master. gosta leonard\n",
      "8      johnson, mrs. oscar w (elisabeth vilhelmina berg)\n",
      "9                    nasser, mrs. nicholas (adele achem)\n",
      "10                       sandstrom, miss. marguerite rut\n",
      "11                              bonnell, miss. elizabeth\n",
      "12                        saundercock, mr. william henry\n",
      "13                           andersson, mr. anders johan\n",
      "14                  vestrom, miss. hulda amanda adolfina\n",
      "15                       hewlett, mrs. (mary d kingcome)\n",
      "16                                  rice, master. eugene\n",
      "17                          williams, mr. charles eugene\n",
      "18     vander planke, mrs. julius (emelia maria vande...\n",
      "19                               masselmani, mrs. fatima\n",
      "20                                  fynney, mr. joseph j\n",
      "21                                 beesley, mr. lawrence\n",
      "22                           mcgowan, miss. anna \"annie\"\n",
      "23                          sloper, mr. william thompson\n",
      "24                         palsson, miss. torborg danira\n",
      "25     asplund, mrs. carl oscar (selma augusta emilia...\n",
      "26                               emir, mr. farred chehab\n",
      "27                        fortune, mr. charles alexander\n",
      "28                         o'dwyer, miss. ellen \"nellie\"\n",
      "29                                   todoroff, mr. lalio\n",
      "                             ...                        \n",
      "861                          giles, mr. frederick edward\n",
      "862    swift, mrs. frederick joel (margaret welles ba...\n",
      "863                    sage, miss. dorothy edith \"dolly\"\n",
      "864                               gill, mr. john william\n",
      "865                             bystrom, mrs. (karolina)\n",
      "866                         duran y more, miss. asuncion\n",
      "867                 roebling, mr. washington augustus ii\n",
      "868                          van melkebeke, mr. philemon\n",
      "869                      johnson, master. harold theodor\n",
      "870                                    balkic, mr. cerin\n",
      "871     beckwith, mrs. richard leonard (sallie monypeny)\n",
      "872                             carlsson, mr. frans olof\n",
      "873                          vander cruyssen, mr. victor\n",
      "874                abelson, mrs. samuel (hannah wizosky)\n",
      "875                     najib, miss. adele kiamie \"jane\"\n",
      "876                        gustafsson, mr. alfred ossian\n",
      "877                                 petroff, mr. nedelio\n",
      "878                                   laleff, mr. kristo\n",
      "879        potter, mrs. thomas jr (lily alexenia wilson)\n",
      "880         shelley, mrs. william (imanita parrish hall)\n",
      "881                                   markun, mr. johann\n",
      "882                         dahlberg, miss. gerda ulrika\n",
      "883                        banfield, mr. frederick james\n",
      "884                               sutehall, mr. henry jr\n",
      "885                 rice, mrs. william (margaret norton)\n",
      "886                                montvila, rev. juozas\n",
      "887                         graham, miss. margaret edith\n",
      "888             johnston, miss. catherine helen \"carrie\"\n",
      "889                                behr, mr. karl howell\n",
      "890                                  dooley, mr. patrick\n",
      "Name: name, dtype: object\n"
     ]
    }
   ],
   "source": [
    "df['name'] = df['name'].apply(lambda x: x.strip())\n",
    "print df['name']"
   ]
  },
  {
   "cell_type": "markdown",
   "metadata": {},
   "source": [
    "####  Fix string values that might be mispelled"
   ]
  },
  {
   "cell_type": "code",
   "execution_count": 38,
   "metadata": {
    "collapsed": false
   },
   "outputs": [
    {
     "name": "stdout",
     "output_type": "stream",
     "text": [
      "0        male\n",
      "1      female\n",
      "2      female\n",
      "3      female\n",
      "4        male\n",
      "5        male\n",
      "6        male\n",
      "7        male\n",
      "8      female\n",
      "9      female\n",
      "10     female\n",
      "11     female\n",
      "12       male\n",
      "13       male\n",
      "14     female\n",
      "15     female\n",
      "16       male\n",
      "17       male\n",
      "18     female\n",
      "19     female\n",
      "20       male\n",
      "21       male\n",
      "22     female\n",
      "23       male\n",
      "24     female\n",
      "25     female\n",
      "26       male\n",
      "27       male\n",
      "28     female\n",
      "29       male\n",
      "        ...  \n",
      "861      male\n",
      "862    female\n",
      "863    female\n",
      "864      male\n",
      "865    female\n",
      "866    female\n",
      "867      male\n",
      "868      male\n",
      "869      male\n",
      "870      male\n",
      "871    female\n",
      "872      male\n",
      "873      male\n",
      "874    female\n",
      "875    female\n",
      "876      male\n",
      "877      male\n",
      "878      male\n",
      "879    female\n",
      "880    female\n",
      "881      male\n",
      "882    female\n",
      "883      male\n",
      "884      male\n",
      "885    female\n",
      "886      male\n",
      "887    female\n",
      "888    female\n",
      "889      male\n",
      "890      male\n",
      "Name: sex, dtype: object\n"
     ]
    }
   ],
   "source": [
    "import difflib\n",
    "df['sex'] = df['sex'].apply(lambda x: difflib.get_close_matches(x,[\"male\",\"female\"])[0])\n",
    "print df['sex']"
   ]
  },
  {
   "cell_type": "markdown",
   "metadata": {},
   "source": [
    "## Examine quantitative variables for irregularities"
   ]
  },
  {
   "cell_type": "markdown",
   "metadata": {},
   "source": [
    "#### View the central tendency, variability, minimum, maximum, and quartiles to check for impossible or unexpect values"
   ]
  },
  {
   "cell_type": "code",
   "execution_count": 39,
   "metadata": {
    "collapsed": false
   },
   "outputs": [
    {
     "data": {
      "text/html": [
       "<div>\n",
       "<table border=\"1\" class=\"dataframe\">\n",
       "  <thead>\n",
       "    <tr style=\"text-align: right;\">\n",
       "      <th></th>\n",
       "      <th>survived</th>\n",
       "      <th>age</th>\n",
       "      <th>sibsp</th>\n",
       "      <th>parch</th>\n",
       "      <th>fare</th>\n",
       "      <th>pclass-orig</th>\n",
       "      <th>hi dave</th>\n",
       "      <th>familymembers</th>\n",
       "    </tr>\n",
       "  </thead>\n",
       "  <tbody>\n",
       "    <tr>\n",
       "      <th>count</th>\n",
       "      <td>891.000000</td>\n",
       "      <td>714.000000</td>\n",
       "      <td>891.000000</td>\n",
       "      <td>891.000000</td>\n",
       "      <td>891.000000</td>\n",
       "      <td>891.000000</td>\n",
       "      <td>891.0</td>\n",
       "      <td>891.000000</td>\n",
       "    </tr>\n",
       "    <tr>\n",
       "      <th>mean</th>\n",
       "      <td>0.383838</td>\n",
       "      <td>29.699118</td>\n",
       "      <td>0.523008</td>\n",
       "      <td>0.381594</td>\n",
       "      <td>32.204208</td>\n",
       "      <td>2.308642</td>\n",
       "      <td>9.0</td>\n",
       "      <td>0.904602</td>\n",
       "    </tr>\n",
       "    <tr>\n",
       "      <th>std</th>\n",
       "      <td>0.486592</td>\n",
       "      <td>14.526497</td>\n",
       "      <td>1.102743</td>\n",
       "      <td>0.806057</td>\n",
       "      <td>49.693429</td>\n",
       "      <td>0.836071</td>\n",
       "      <td>0.0</td>\n",
       "      <td>1.613459</td>\n",
       "    </tr>\n",
       "    <tr>\n",
       "      <th>min</th>\n",
       "      <td>0.000000</td>\n",
       "      <td>0.420000</td>\n",
       "      <td>0.000000</td>\n",
       "      <td>0.000000</td>\n",
       "      <td>0.000000</td>\n",
       "      <td>1.000000</td>\n",
       "      <td>9.0</td>\n",
       "      <td>0.000000</td>\n",
       "    </tr>\n",
       "    <tr>\n",
       "      <th>25%</th>\n",
       "      <td>0.000000</td>\n",
       "      <td>20.125000</td>\n",
       "      <td>0.000000</td>\n",
       "      <td>0.000000</td>\n",
       "      <td>7.910400</td>\n",
       "      <td>2.000000</td>\n",
       "      <td>9.0</td>\n",
       "      <td>0.000000</td>\n",
       "    </tr>\n",
       "    <tr>\n",
       "      <th>50%</th>\n",
       "      <td>0.000000</td>\n",
       "      <td>28.000000</td>\n",
       "      <td>0.000000</td>\n",
       "      <td>0.000000</td>\n",
       "      <td>14.454200</td>\n",
       "      <td>3.000000</td>\n",
       "      <td>9.0</td>\n",
       "      <td>0.000000</td>\n",
       "    </tr>\n",
       "    <tr>\n",
       "      <th>75%</th>\n",
       "      <td>1.000000</td>\n",
       "      <td>38.000000</td>\n",
       "      <td>1.000000</td>\n",
       "      <td>0.000000</td>\n",
       "      <td>31.000000</td>\n",
       "      <td>3.000000</td>\n",
       "      <td>9.0</td>\n",
       "      <td>1.000000</td>\n",
       "    </tr>\n",
       "    <tr>\n",
       "      <th>max</th>\n",
       "      <td>1.000000</td>\n",
       "      <td>80.000000</td>\n",
       "      <td>8.000000</td>\n",
       "      <td>6.000000</td>\n",
       "      <td>512.329200</td>\n",
       "      <td>3.000000</td>\n",
       "      <td>9.0</td>\n",
       "      <td>10.000000</td>\n",
       "    </tr>\n",
       "  </tbody>\n",
       "</table>\n",
       "</div>"
      ],
      "text/plain": [
       "         survived         age       sibsp       parch        fare  \\\n",
       "count  891.000000  714.000000  891.000000  891.000000  891.000000   \n",
       "mean     0.383838   29.699118    0.523008    0.381594   32.204208   \n",
       "std      0.486592   14.526497    1.102743    0.806057   49.693429   \n",
       "min      0.000000    0.420000    0.000000    0.000000    0.000000   \n",
       "25%      0.000000   20.125000    0.000000    0.000000    7.910400   \n",
       "50%      0.000000   28.000000    0.000000    0.000000   14.454200   \n",
       "75%      1.000000   38.000000    1.000000    0.000000   31.000000   \n",
       "max      1.000000   80.000000    8.000000    6.000000  512.329200   \n",
       "\n",
       "       pclass-orig  hi dave  familymembers  \n",
       "count   891.000000    891.0     891.000000  \n",
       "mean      2.308642      9.0       0.904602  \n",
       "std       0.836071      0.0       1.613459  \n",
       "min       1.000000      9.0       0.000000  \n",
       "25%       2.000000      9.0       0.000000  \n",
       "50%       3.000000      9.0       0.000000  \n",
       "75%       3.000000      9.0       1.000000  \n",
       "max       3.000000      9.0      10.000000  "
      ]
     },
     "execution_count": 39,
     "metadata": {},
     "output_type": "execute_result"
    }
   ],
   "source": [
    "df.describe()"
   ]
  },
  {
   "cell_type": "markdown",
   "metadata": {},
   "source": [
    "#### View a histogram that shows the distribution of the variables."
   ]
  },
  {
   "cell_type": "code",
   "execution_count": 40,
   "metadata": {
    "collapsed": false
   },
   "outputs": [
    {
     "data": {
      "image/png": "[encoded data removed]",
      "text/plain": [
       "<matplotlib.figure.Figure at 0x970cc50>"
      ]
     },
     "metadata": {},
     "output_type": "display_data"
    }
   ],
   "source": [
    "import matplotlib.pyplot as plt\n",
    "plt.figure();\n",
    "df[\"fare\"].plot.hist(alpha=0.5)\n",
    "plt.show()"
   ]
  },
  {
   "cell_type": "markdown",
   "metadata": {},
   "source": [
    "#### Restrict the values that data can take (upper and lower limits)"
   ]
  },
  {
   "cell_type": "code",
   "execution_count": 33,
   "metadata": {
    "collapsed": false
   },
   "outputs": [],
   "source": [
    "df.loc[:,'age'] = df['age'].clip(lower=0, upper=100)"
   ]
  },
  {
   "cell_type": "markdown",
   "metadata": {},
   "source": [
    "## Handling Missing Data"
   ]
  },
  {
   "cell_type": "markdown",
   "metadata": {},
   "source": [
    "#### Checking for missing data"
   ]
  },
  {
   "cell_type": "code",
   "execution_count": 42,
   "metadata": {
    "collapsed": false
   },
   "outputs": [
    {
     "name": "stdout",
     "output_type": "stream",
     "text": [
      "     survived  pclass                                            name     sex  \\\n",
      "5           0   lower                                Moran, Mr. James    male   \n",
      "17          1  middle                    Williams, Mr. Charles Eugene    male   \n",
      "19          1   lower                         Masselmani, Mrs. Fatima  female   \n",
      "26          0   lower                         Emir, Mr. Farred Chehab    male   \n",
      "28          1   lower                   O'Dwyer, Miss. Ellen \"Nellie\"  female   \n",
      "29          0   lower                             Todoroff, Mr. Lalio    male   \n",
      "31          1   upper  Spencer, Mrs. William Augustus (Marie Eugenie)  female   \n",
      "32          1   lower                        Glynn, Miss. Mary Agatha  female   \n",
      "36          1   lower                                Mamee, Mr. Hanna    male   \n",
      "42          0   lower                             Kraeff, Mr. Theodor    male   \n",
      "45          0   lower                        Rogers, Mr. William John    male   \n",
      "46          0   lower                               Lennon, Mr. Denis    male   \n",
      "47          1   lower                       O'Driscoll, Miss. Bridget  female   \n",
      "48          0   lower                             Samaan, Mr. Youssef    male   \n",
      "55          1   upper                               Woolner, Mr. Hugh    male   \n",
      "64          0   upper                           Stewart, Mr. Albert A    male   \n",
      "65          1   lower                        Moubarek, Master. Gerios    male   \n",
      "76          0   lower                               Staneff, Mr. Ivan    male   \n",
      "77          0   lower                        Moutal, Mr. Rahamin Haim    male   \n",
      "82          1   lower                  McDermott, Miss. Brigdet Delia  female   \n",
      "87          0   lower                   Slocovski, Mr. Selman Francis    male   \n",
      "95          0   lower                     Shorney, Mr. Charles Joseph    male   \n",
      "101         0   lower                Petroff, Mr. Pastcho (\"Pentcho\")    male   \n",
      "107         1   lower                          Moss, Mr. Albert Johan    male   \n",
      "109         1   lower                             Moran, Miss. Bertha  female   \n",
      "121         0   lower                      Moore, Mr. Leonard Charles    male   \n",
      "126         0   lower                             McMahon, Mr. Martin    male   \n",
      "128         1   lower                               Peter, Miss. Anna  female   \n",
      "140         0   lower                   Boulos, Mrs. Joseph (Sultana)  female   \n",
      "154         0   lower                           Olsen, Mr. Ole Martin    male   \n",
      "..        ...     ...                                             ...     ...   \n",
      "718         0   lower                             McEvoy, Mr. Michael    male   \n",
      "727         1   lower                        Mannion, Miss. Margareth  female   \n",
      "732         0  middle                            Knight, Mr. Robert J    male   \n",
      "738         0   lower                              Ivanoff, Mr. Kanio    male   \n",
      "739         0   lower                              Nankoff, Mr. Minko    male   \n",
      "740         1   upper                     Hawksford, Mr. Walter James    male   \n",
      "760         0   lower                              Garfirth, Mr. John    male   \n",
      "766         0   upper                       Brewe, Dr. Arthur Jackson    male   \n",
      "768         0   lower                             Moran, Mr. Daniel J    male   \n",
      "773         0   lower                                 Elias, Mr. Dibo    male   \n",
      "776         0   lower                                Tobin, Mr. Roger    male   \n",
      "778         0   lower                         Kilgannon, Mr. Thomas J    male   \n",
      "783         0   lower                          Johnston, Mr. Andrew G    male   \n",
      "790         0   lower                        Keane, Mr. Andrew \"Andy\"    male   \n",
      "792         0   lower                         Sage, Miss. Stella Anna  female   \n",
      "793         0   upper                        Hoyt, Mr. William Fisher    male   \n",
      "815         0   upper                                Fry, Mr. Richard    male   \n",
      "825         0   lower                                 Flynn, Mr. John    male   \n",
      "826         0   lower                                    Lam, Mr. Len    male   \n",
      "828         1   lower                    McCormack, Mr. Thomas Joseph    male   \n",
      "832         0   lower                                  Saad, Mr. Amin    male   \n",
      "837         0   lower                             Sirota, Mr. Maurice    male   \n",
      "839         1   upper                            Marechal, Mr. Pierre    male   \n",
      "846         0   lower                        Sage, Mr. Douglas Bullen    male   \n",
      "849         1   upper    Goldenberg, Mrs. Samuel L (Edwiga Grabowska)  female   \n",
      "859         0   lower                                Razi, Mr. Raihed    male   \n",
      "863         0   lower               Sage, Miss. Dorothy Edith \"Dolly\"  female   \n",
      "868         0   lower                     van Melkebeke, Mr. Philemon    male   \n",
      "878         0   lower                              Laleff, Mr. Kristo    male   \n",
      "888         0   lower        Johnston, Miss. Catherine Helen \"Carrie\"  female   \n",
      "\n",
      "     age  sibsp  parch           ticket      fare  cabin embarked  \\\n",
      "5    NaN      0      0           330877    8.4583    NaN        Q   \n",
      "17   NaN      0      0           244373   13.0000    NaN        S   \n",
      "19   NaN      0      0             2649    7.2250    NaN        C   \n",
      "26   NaN      0      0             2631    7.2250    NaN        C   \n",
      "28   NaN      0      0           330959    7.8792    NaN        Q   \n",
      "29   NaN      0      0           349216    7.8958    NaN        S   \n",
      "31   NaN      1      0         PC 17569  146.5208    B78        C   \n",
      "32   NaN      0      0           335677    7.7500    NaN        Q   \n",
      "36   NaN      0      0             2677    7.2292    NaN        C   \n",
      "42   NaN      0      0           349253    7.8958    NaN        C   \n",
      "45   NaN      0      0  S.C./A.4. 23567    8.0500    NaN        S   \n",
      "46   NaN      1      0           370371   15.5000    NaN        Q   \n",
      "47   NaN      0      0            14311    7.7500    NaN        Q   \n",
      "48   NaN      2      0             2662   21.6792    NaN        C   \n",
      "55   NaN      0      0            19947   35.5000    C52        S   \n",
      "64   NaN      0      0         PC 17605   27.7208    NaN        C   \n",
      "65   NaN      1      1             2661   15.2458    NaN        C   \n",
      "76   NaN      0      0           349208    7.8958    NaN        S   \n",
      "77   NaN      0      0           374746    8.0500    NaN        S   \n",
      "82   NaN      0      0           330932    7.7875    NaN        Q   \n",
      "87   NaN      0      0  SOTON/OQ 392086    8.0500    NaN        S   \n",
      "95   NaN      0      0           374910    8.0500    NaN        S   \n",
      "101  NaN      0      0           349215    7.8958    NaN        S   \n",
      "107  NaN      0      0           312991    7.7750    NaN        S   \n",
      "109  NaN      1      0           371110   24.1500    NaN        Q   \n",
      "121  NaN      0      0        A4. 54510    8.0500    NaN        S   \n",
      "126  NaN      0      0           370372    7.7500    NaN        Q   \n",
      "128  NaN      1      1             2668   22.3583  F E69        C   \n",
      "140  NaN      0      2             2678   15.2458    NaN        C   \n",
      "154  NaN      0      0        Fa 265302    7.3125    NaN        S   \n",
      "..   ...    ...    ...              ...       ...    ...      ...   \n",
      "718  NaN      0      0            36568   15.5000    NaN        Q   \n",
      "727  NaN      0      0            36866    7.7375    NaN        Q   \n",
      "732  NaN      0      0           239855    0.0000    NaN        S   \n",
      "738  NaN      0      0           349201    7.8958    NaN        S   \n",
      "739  NaN      0      0           349218    7.8958    NaN        S   \n",
      "740  NaN      0      0            16988   30.0000    D45        S   \n",
      "760  NaN      0      0           358585   14.5000    NaN        S   \n",
      "766  NaN      0      0           112379   39.6000    NaN        C   \n",
      "768  NaN      1      0           371110   24.1500    NaN        Q   \n",
      "773  NaN      0      0             2674    7.2250    NaN        C   \n",
      "776  NaN      0      0           383121    7.7500    F38        Q   \n",
      "778  NaN      0      0            36865    7.7375    NaN        Q   \n",
      "783  NaN      1      2       W./C. 6607   23.4500    NaN        S   \n",
      "790  NaN      0      0            12460    7.7500    NaN        Q   \n",
      "792  NaN      8      2         CA. 2343   69.5500    NaN        S   \n",
      "793  NaN      0      0         PC 17600   30.6958    NaN        C   \n",
      "815  NaN      0      0           112058    0.0000   B102        S   \n",
      "825  NaN      0      0           368323    6.9500    NaN        Q   \n",
      "826  NaN      0      0             1601   56.4958    NaN        S   \n",
      "828  NaN      0      0           367228    7.7500    NaN        Q   \n",
      "832  NaN      0      0             2671    7.2292    NaN        C   \n",
      "837  NaN      0      0           392092    8.0500    NaN        S   \n",
      "839  NaN      0      0            11774   29.7000    C47        C   \n",
      "846  NaN      8      2         CA. 2343   69.5500    NaN        S   \n",
      "849  NaN      1      0            17453   89.1042    C92        C   \n",
      "859  NaN      0      0             2629    7.2292    NaN        C   \n",
      "863  NaN      8      2         CA. 2343   69.5500    NaN        S   \n",
      "868  NaN      0      0           345777    9.5000    NaN        S   \n",
      "878  NaN      0      0           349217    7.8958    NaN        S   \n",
      "888  NaN      1      2       W./C. 6607   23.4500    NaN        S   \n",
      "\n",
      "     pclass-orig age_recode  hi dave  familymembers  \n",
      "5              3        NaN        9              0  \n",
      "17             2        NaN        9              0  \n",
      "19             3        NaN        9              0  \n",
      "26             3        NaN        9              0  \n",
      "28             3        NaN        9              0  \n",
      "29             3        NaN        9              0  \n",
      "31             1        NaN        9              1  \n",
      "32             3        NaN        9              0  \n",
      "36             3        NaN        9              0  \n",
      "42             3        NaN        9              0  \n",
      "45             3        NaN        9              0  \n",
      "46             3        NaN        9              1  \n",
      "47             3        NaN        9              0  \n",
      "48             3        NaN        9              2  \n",
      "55             1        NaN        9              0  \n",
      "64             1        NaN        9              0  \n",
      "65             3        NaN        9              2  \n",
      "76             3        NaN        9              0  \n",
      "77             3        NaN        9              0  \n",
      "82             3        NaN        9              0  \n",
      "87             3        NaN        9              0  \n",
      "95             3        NaN        9              0  \n",
      "101            3        NaN        9              0  \n",
      "107            3        NaN        9              0  \n",
      "109            3        NaN        9              1  \n",
      "121            3        NaN        9              0  \n",
      "126            3        NaN        9              0  \n",
      "128            3        NaN        9              2  \n",
      "140            3        NaN        9              2  \n",
      "154            3        NaN        9              0  \n",
      "..           ...        ...      ...            ...  \n",
      "718            3        NaN        9              0  \n",
      "727            3        NaN        9              0  \n",
      "732            2        NaN        9              0  \n",
      "738            3        NaN        9              0  \n",
      "739            3        NaN        9              0  \n",
      "740            1        NaN        9              0  \n",
      "760            3        NaN        9              0  \n",
      "766            1        NaN        9              0  \n",
      "768            3        NaN        9              1  \n",
      "773            3        NaN        9              0  \n",
      "776            3        NaN        9              0  \n",
      "778            3        NaN        9              0  \n",
      "783            3        NaN        9              3  \n",
      "790            3        NaN        9              0  \n",
      "792            3        NaN        9             10  \n",
      "793            1        NaN        9              0  \n",
      "815            1        NaN        9              0  \n",
      "825            3        NaN        9              0  \n",
      "826            3        NaN        9              0  \n",
      "828            3        NaN        9              0  \n",
      "832            3        NaN        9              0  \n",
      "837            3        NaN        9              0  \n",
      "839            1        NaN        9              0  \n",
      "846            3        NaN        9             10  \n",
      "849            1        NaN        9              1  \n",
      "859            3        NaN        9              0  \n",
      "863            3        NaN        9             10  \n",
      "868            3        NaN        9              0  \n",
      "878            3        NaN        9              0  \n",
      "888            3        NaN        9              3  \n",
      "\n",
      "[177 rows x 15 columns]\n"
     ]
    }
   ],
   "source": [
    "missing_data = df[pd.isnull(df['age'])]\n",
    "print missing_data"
   ]
  },
  {
   "cell_type": "markdown",
   "metadata": {},
   "source": [
    "#### Drop rows that have a missing value for age"
   ]
  },
  {
   "cell_type": "code",
   "execution_count": null,
   "metadata": {
    "collapsed": false
   },
   "outputs": [],
   "source": [
    "df = df[pd.notnull(df['age'])]\n",
    "print df['age']"
   ]
  },
  {
   "cell_type": "markdown",
   "metadata": {},
   "source": [
    "#### Replace missing values with the:\n",
    "   1) median (middle value) for that column\n",
    "   \n",
    "   2) mode (most frequent value) for that column"
   ]
  },
  {
   "cell_type": "code",
   "execution_count": null,
   "metadata": {
    "collapsed": false
   },
   "outputs": [],
   "source": [
    "df['age_medianimpute'] = df['age'].fillna(df['age'].median())\n",
    "df['age_modeimpute'] = df['age'].fillna(df['age'].mode())"
   ]
  },
  {
   "cell_type": "markdown",
   "metadata": {},
   "source": [
    "#### Replace missing values with the likely value"
   ]
  },
  {
   "cell_type": "markdown",
   "metadata": {},
   "source": [
    "#### Use a linear regression formula to predict what the missing value would have been"
   ]
  },
  {
   "cell_type": "code",
   "execution_count": null,
   "metadata": {
    "collapsed": false
   },
   "outputs": [],
   "source": [
    "from sklearn import linear_model, preprocessing\n",
    "import numpy as np\n",
    "\n",
    "\n",
    "sex_encoder = preprocessing.LabelEncoder().fit(df[\"sex\"])\n",
    "df['sex_coded'] = sex_encoder.transform(df[\"sex\"])\n",
    "\n",
    "df_complete = df.dropna()\n",
    "regr = linear_model.LinearRegression()\n",
    "regr.fit(df_complete[[\"fare\",\"sex_coded\"]],df_complete['age'])\n",
    "\n",
    "df.loc[:,'age'] = df.apply(lambda x: regr.predict(df[[\"fare\",\"sex_coded\"]])[0] if pd.isnull(x['age']) else x['age'], axis=1)"
   ]
  },
  {
   "cell_type": "markdown",
   "metadata": {},
   "source": [
    "#### Use the 2 most similar cases to predict what the missing value would have been"
   ]
  },
  {
   "cell_type": "code",
   "execution_count": null,
   "metadata": {
    "collapsed": false
   },
   "outputs": [],
   "source": [
    "from sklearn.neighbors import KNeighborsRegressor\n",
    "\n",
    "sex_encoder = preprocessing.LabelEncoder().fit(df[\"sex\"])\n",
    "df['sex_coded'] = sex_encoder.transform(df[\"sex\"])\n",
    "\n",
    "\n",
    "pclass_encoder = preprocessing.LabelEncoder().fit(df[\"pclass\"])\n",
    "df['pclass_coded'] = pclass_encoder.transform(df[\"pclass\"])\n",
    "\n",
    "df_complete = df.dropna()\n",
    "\n",
    "neigh = KNeighborsRegressor(n_neighbors=2)\n",
    "neigh.fit(df_complete[[\"fare\",\"sex_coded\",\"pclass_coded\",\"sibsp\"]], df_complete[\"age\"])\n",
    "\n",
    "df.loc[:,'age'] = df.apply(lambda x: neigh.predict(df[[\"fare\",\"sex_coded\",\"pclass_coded\",\"sibsp\"]])[0] if pd.isnull(x['age']) else x['age'], axis=1)\n"
   ]
  },
  {
   "cell_type": "markdown",
   "metadata": {},
   "source": [
    "## Apply the lesson"
   ]
  },
  {
   "cell_type": "markdown",
   "metadata": {},
   "source": [
    "#### Import the pandas library (call it pd for short). \n",
    "\n",
    "#### Read in the dataset called \"redwinequality.csv\" in the datasets folder and save it to a dataframe called \"df\""
   ]
  },
  {
   "cell_type": "code",
   "execution_count": null,
   "metadata": {
    "collapsed": true
   },
   "outputs": [],
   "source": []
  },
  {
   "cell_type": "markdown",
   "metadata": {},
   "source": [
    "#### What are the variables collected on each wines?"
   ]
  },
  {
   "cell_type": "code",
   "execution_count": null,
   "metadata": {
    "collapsed": false
   },
   "outputs": [],
   "source": []
  },
  {
   "cell_type": "markdown",
   "metadata": {},
   "source": [
    "#### What is the maximum and minimum pH value?"
   ]
  },
  {
   "cell_type": "code",
   "execution_count": null,
   "metadata": {
    "collapsed": false
   },
   "outputs": [],
   "source": []
  },
  {
   "cell_type": "markdown",
   "metadata": {},
   "source": [
    "#### How does the distribution of quality ratings look like?"
   ]
  },
  {
   "cell_type": "code",
   "execution_count": null,
   "metadata": {
    "collapsed": true
   },
   "outputs": [],
   "source": []
  },
  {
   "cell_type": "markdown",
   "metadata": {},
   "source": [
    "#### Some of the volatile acidity measurements are missing. How many of the measurements are missing? What proportion of wines are missing a volatile acidity rating?"
   ]
  },
  {
   "cell_type": "code",
   "execution_count": null,
   "metadata": {
    "collapsed": false
   },
   "outputs": [],
   "source": []
  },
  {
   "cell_type": "markdown",
   "metadata": {},
   "source": [
    "#### Fill in the missing values for volatile acidity with the median. Create a new column with the filled in missing data. Call that column: va_medianimpute"
   ]
  },
  {
   "cell_type": "code",
   "execution_count": null,
   "metadata": {
    "collapsed": false
   },
   "outputs": [],
   "source": []
  },
  {
   "cell_type": "markdown",
   "metadata": {},
   "source": [
    "#### Fill in the missing values for volatile acidity with using the 8 most similar cases/neighbors.  Base similarity off the variables: fixedacidity, citricacid, residualsugar, and chlorides\n",
    "\n",
    "#### Create a new column with the filled in missing data. Call that column: va_neighborimpute"
   ]
  },
  {
   "cell_type": "code",
   "execution_count": null,
   "metadata": {
    "collapsed": false
   },
   "outputs": [],
   "source": []
  },
  {
   "cell_type": "markdown",
   "metadata": {},
   "source": [
    "#### Load in the complete wine dataset (redwinequality_complete.csv), which has the true values for the missing values. Call the dataframe: df_true\n",
    "\n",
    "#### Compare the absolute difference between the volatile acidity column of the complete dataset with va_medianimpute and the va_neighborimpute variables you created.\n",
    "\n",
    "#### Which imputation method has the smallest MEAN/AVERAGE absolute difference?"
   ]
  },
  {
   "cell_type": "code",
   "execution_count": null,
   "metadata": {
    "collapsed": false
   },
   "outputs": [],
   "source": []
  },
  {
   "cell_type": "markdown",
   "metadata": {
    "collapsed": true
   },
   "source": [
    "#### You want to recode the chlorides as either being \"high\" or \"low\" if the chloride level is above or below (or equal to) .25. Create a new variable called: \"chlorides_category\" that follows those rules. Show the new coded variable next to the old numeric variable."
   ]
  },
  {
   "cell_type": "code",
   "execution_count": null,
   "metadata": {
    "collapsed": false
   },
   "outputs": [],
   "source": []
  }
 ],
 "metadata": {
  "kernelspec": {
   "display_name": "Python 2",
   "language": "python",
   "name": "python2"
  },
  "language_info": {
   "codemirror_mode": {
    "name": "ipython",
    "version": 2
   },
   "file_extension": ".py",
   "mimetype": "text/x-python",
   "name": "python",
   "nbconvert_exporter": "python",
   "pygments_lexer": "ipython2",
   "version": "2.7.13"
  }
 },
 "nbformat": 4,
 "nbformat_minor": 0
}
