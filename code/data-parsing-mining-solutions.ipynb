{
 "cells": [
  {
   "cell_type": "markdown",
   "metadata": {},
   "source": [
    "## Pandas basics"
   ]
  },
  {
   "cell_type": "markdown",
   "metadata": {},
   "source": [
    "#### Start out by importing the pandas library, and we'll tell Python that we're referring to it as \"pd\" (for the sake of brevity)"
   ]
  },
  {
   "cell_type": "code",
   "execution_count": null,
   "metadata": {
    "collapsed": true
   },
   "outputs": [],
   "source": [
    "import pandas as pd"
   ]
  },
  {
   "cell_type": "markdown",
   "metadata": {},
   "source": [
    "#### Read in a CSV file into a pandas dataframe we'll call \"df\"\n",
    "#### The csv reading function assumes that each person is on a new line, that the variable names are at the top of the file, and all entries are separated by a column"
   ]
  },
  {
   "cell_type": "code",
   "execution_count": null,
   "metadata": {
    "collapsed": false
   },
   "outputs": [],
   "source": [
    "df = pd.read_csv('../dataset/titanic.csv')"
   ]
  },
  {
   "cell_type": "markdown",
   "metadata": {},
   "source": [
    "#### You can view the variable/column names"
   ]
  },
  {
   "cell_type": "code",
   "execution_count": null,
   "metadata": {
    "collapsed": false
   },
   "outputs": [],
   "source": [
    "list(df.columns.values)"
   ]
  },
  {
   "cell_type": "markdown",
   "metadata": {},
   "source": [
    "#### You can view how many data entries/cases there are"
   ]
  },
  {
   "cell_type": "code",
   "execution_count": null,
   "metadata": {
    "collapsed": false
   },
   "outputs": [],
   "source": [
    "print len(df.index)"
   ]
  },
  {
   "cell_type": "markdown",
   "metadata": {},
   "source": [
    "#### You can access a specific column/variable using brackets and the column name in quotations"
   ]
  },
  {
   "cell_type": "code",
   "execution_count": null,
   "metadata": {
    "collapsed": true
   },
   "outputs": [],
   "source": [
    "df['sex']\n",
    "\n",
    "#or\n",
    "\n",
    "df.sex"
   ]
  },
  {
   "cell_type": "markdown",
   "metadata": {},
   "source": [
    "#### You can also access multiple columns at once"
   ]
  },
  {
   "cell_type": "code",
   "execution_count": null,
   "metadata": {
    "collapsed": false
   },
   "outputs": [],
   "source": [
    "\n",
    "df[[\"sex\",\"fare\"]]"
   ]
  },
  {
   "cell_type": "markdown",
   "metadata": {},
   "source": [
    "#### You can view either the first N or last N set of rows"
   ]
  },
  {
   "cell_type": "code",
   "execution_count": null,
   "metadata": {
    "collapsed": false
   },
   "outputs": [],
   "source": [
    "N = 5\n",
    "print df.head(5)\n",
    "print df.tail(5)"
   ]
  },
  {
   "cell_type": "markdown",
   "metadata": {},
   "source": [
    "#### You can recode a variable by mapping on the old value to new values"
   ]
  },
  {
   "cell_type": "code",
   "execution_count": null,
   "metadata": {
    "collapsed": false
   },
   "outputs": [],
   "source": [
    "df['pclass'] = df[\"pclass\"].astype(\"str\")\n",
    "df[\"pclass\"].replace({'1': 'upper', '2' : 'middle', '3' : \"lower\"})"
   ]
  },
  {
   "cell_type": "code",
   "execution_count": null,
   "metadata": {
    "collapsed": true
   },
   "outputs": [],
   "source": []
  },
  {
   "cell_type": "code",
   "execution_count": null,
   "metadata": {
    "collapsed": false
   },
   "outputs": [],
   "source": [
    "df.ix[df.age >= 18, 'age_recode'] = \"adult\"\n",
    "df.ix[df.age < 18, 'age_recode'] = \"child\"\n",
    "print df['age_recode']"
   ]
  },
  {
   "cell_type": "markdown",
   "metadata": {},
   "source": [
    "#### You can create new variables"
   ]
  },
  {
   "cell_type": "code",
   "execution_count": null,
   "metadata": {
    "collapsed": false
   },
   "outputs": [],
   "source": [
    "df[\"familymembers\"] = df[\"sibsp\"] + df[\"parch\"] \n",
    "print df[[\"sibsp\",\"parch\",\"familymembers\"]]"
   ]
  },
  {
   "cell_type": "markdown",
   "metadata": {},
   "source": [
    "#### You can code variables by their range"
   ]
  },
  {
   "cell_type": "code",
   "execution_count": null,
   "metadata": {
    "collapsed": false
   },
   "outputs": [],
   "source": [
    "df[\"alone_or_group\"] = df['familymembers'].apply(lambda x: 'alone' if x < 1 else 'group')"
   ]
  },
  {
   "cell_type": "markdown",
   "metadata": {},
   "source": [
    "#### You can combine two different data sources that share a common attribute (e.g., \"name\")"
   ]
  },
  {
   "cell_type": "code",
   "execution_count": null,
   "metadata": {
    "collapsed": false
   },
   "outputs": [],
   "source": [
    "survivors = df[[\"name\",\"survived\"]]\n",
    "ticketprices = df[[\"name\",\"fare\"]]\n",
    "merged = survivors.merge(ticketprices, left_on=\"name\", right_on=\"name\")"
   ]
  },
  {
   "cell_type": "markdown",
   "metadata": {},
   "source": [
    "## Examine Categorical Variables for Irregularities"
   ]
  },
  {
   "cell_type": "markdown",
   "metadata": {},
   "source": [
    "#### Examine the different values entered"
   ]
  },
  {
   "cell_type": "code",
   "execution_count": null,
   "metadata": {
    "collapsed": false
   },
   "outputs": [],
   "source": [
    "pd.unique(df[\"sex\"])"
   ]
  },
  {
   "cell_type": "markdown",
   "metadata": {},
   "source": [
    "#### Make all string values lowercase"
   ]
  },
  {
   "cell_type": "code",
   "execution_count": null,
   "metadata": {
    "collapsed": false
   },
   "outputs": [],
   "source": [
    "df['name'] = df['name'].apply(lambda x: x.lower())\n",
    "print df['name']"
   ]
  },
  {
   "cell_type": "markdown",
   "metadata": {},
   "source": [
    "#### Fix string values that might have an extra hidden spae before or after"
   ]
  },
  {
   "cell_type": "code",
   "execution_count": null,
   "metadata": {
    "collapsed": false
   },
   "outputs": [],
   "source": [
    "df['name'] = df['name'].apply(lambda x: x.strip())\n",
    "print df['name']"
   ]
  },
  {
   "cell_type": "markdown",
   "metadata": {},
   "source": [
    "####  Fix string values that might be mispelled"
   ]
  },
  {
   "cell_type": "code",
   "execution_count": null,
   "metadata": {
    "collapsed": false
   },
   "outputs": [],
   "source": [
    "import difflib\n",
    "df['sex'] = df['sex'].apply(lambda x: difflib.get_close_matches(x,[\"male\",\"female\"])[0])\n",
    "print df['sex']"
   ]
  },
  {
   "cell_type": "markdown",
   "metadata": {},
   "source": [
    "## Examine quantitative variables for irregularities"
   ]
  },
  {
   "cell_type": "markdown",
   "metadata": {},
   "source": [
    "#### View the central tendency, variability, minimum, maximum, and quartiles to check for impossible or unexpect values"
   ]
  },
  {
   "cell_type": "code",
   "execution_count": null,
   "metadata": {
    "collapsed": false
   },
   "outputs": [],
   "source": [
    "df[\"fare\"].describe()"
   ]
  },
  {
   "cell_type": "markdown",
   "metadata": {},
   "source": [
    "#### View a histogram that shows the distribution of the variables."
   ]
  },
  {
   "cell_type": "code",
   "execution_count": null,
   "metadata": {
    "collapsed": false
   },
   "outputs": [],
   "source": [
    "import matplotlib.pyplot as plt\n",
    "plt.figure();\n",
    "df[\"fare\"].plot.hist(alpha=0.5)\n",
    "plt.show()"
   ]
  },
  {
   "cell_type": "markdown",
   "metadata": {},
   "source": [
    "#### Restrict the values that data can take (upper and lower limits)"
   ]
  },
  {
   "cell_type": "code",
   "execution_count": null,
   "metadata": {
    "collapsed": false
   },
   "outputs": [],
   "source": [
    "df.loc[:,'age'] = df['age'].clip(lower=0, upper=100)"
   ]
  },
  {
   "cell_type": "markdown",
   "metadata": {},
   "source": [
    "## Handling Missing Data"
   ]
  },
  {
   "cell_type": "markdown",
   "metadata": {},
   "source": [
    "#### Checking for missing data"
   ]
  },
  {
   "cell_type": "code",
   "execution_count": null,
   "metadata": {
    "collapsed": false
   },
   "outputs": [],
   "source": [
    "missing_count = df['age'].isnull().sum()\n",
    "print missing_count\n",
    "\n",
    "missing_data = df[pd.isnull(df['age'])]\n",
    "print missing_data"
   ]
  },
  {
   "cell_type": "markdown",
   "metadata": {},
   "source": [
    "#### Drop rows that have a missing value for age"
   ]
  },
  {
   "cell_type": "code",
   "execution_count": null,
   "metadata": {
    "collapsed": false
   },
   "outputs": [],
   "source": [
    "df = df[pd.notnull(df['age'])]\n",
    "print df['age']"
   ]
  },
  {
   "cell_type": "markdown",
   "metadata": {},
   "source": [
    "#### Replace missing values with the:\n",
    "   1) median (middle value) for that column\n",
    "   \n",
    "   2) mode (most frequent value) for that column"
   ]
  },
  {
   "cell_type": "code",
   "execution_count": null,
   "metadata": {
    "collapsed": false
   },
   "outputs": [],
   "source": [
    "df['age_medianimpute'] = df['age'].fillna(df['age'].median())\n",
    "df['age_modeimpute'] = df['age'].fillna(df['age'].mode())"
   ]
  },
  {
   "cell_type": "markdown",
   "metadata": {},
   "source": [
    "#### Replace missing values with the likely value"
   ]
  },
  {
   "cell_type": "markdown",
   "metadata": {},
   "source": [
    "#### Use a linear regression formula to predict what the missing value would have been"
   ]
  },
  {
   "cell_type": "code",
   "execution_count": null,
   "metadata": {
    "collapsed": false
   },
   "outputs": [],
   "source": [
    "from sklearn import linear_model, preprocessing\n",
    "import numpy as np\n",
    "\n",
    "\n",
    "sex_encoder = preprocessing.LabelEncoder().fit(df[\"sex\"])\n",
    "df['sex_coded'] = sex_encoder.transform(df[\"sex\"])\n",
    "\n",
    "df_complete = df.dropna()\n",
    "regr = linear_model.LinearRegression()\n",
    "regr.fit(df_complete[[\"fare\",\"sex_coded\"]],df_complete['age'])\n",
    "\n",
    "df.loc[:,'age'] = df.apply(lambda x: regr.predict(df[[\"fare\",\"sex_coded\"]])[0] if pd.isnull(x['age']) else x['age'], axis=1)"
   ]
  },
  {
   "cell_type": "markdown",
   "metadata": {},
   "source": [
    "#### Use the 2 most similar cases to predict what the missing value would have been"
   ]
  },
  {
   "cell_type": "code",
   "execution_count": null,
   "metadata": {
    "collapsed": false
   },
   "outputs": [],
   "source": [
    "from sklearn.neighbors import KNeighborsRegressor\n",
    "\n",
    "sex_encoder = preprocessing.LabelEncoder().fit(df[\"sex\"])\n",
    "df['sex_coded'] = sex_encoder.transform(df[\"sex\"])\n",
    "\n",
    "\n",
    "pclass_encoder = preprocessing.LabelEncoder().fit(df[\"pclass\"])\n",
    "df['pclass_coded'] = pclass_encoder.transform(df[\"pclass\"])\n",
    "\n",
    "df_complete = df.dropna()\n",
    "\n",
    "neigh = KNeighborsRegressor(n_neighbors=2)\n",
    "neigh.fit(df_complete[[\"fare\",\"sex_coded\",\"pclass_coded\",\"sibsp\"]], df_complete[\"age\"])\n",
    "\n",
    "df.loc[:,'age'] = df.apply(lambda x: neigh.predict(df[[\"fare\",\"sex_coded\",\"pclass_coded\",\"sibsp\"]])[0] if pd.isnull(x['age']) else x['age'], axis=1)\n"
   ]
  },
  {
   "cell_type": "markdown",
   "metadata": {},
   "source": [
    "## Apply the lesson"
   ]
  },
  {
   "cell_type": "markdown",
   "metadata": {},
   "source": [
    "#### Import the pandas library (call it pd for short). \n",
    "\n",
    "#### Read in the dataset called \"redwinequality.csv\" in the datasets folder and save it to a dataframe called \"df\""
   ]
  },
  {
   "cell_type": "code",
   "execution_count": null,
   "metadata": {
    "collapsed": true
   },
   "outputs": [],
   "source": [
    "import pandas as pd\n",
    "df = pd.read_csv('../dataset/redwinequality.csv')"
   ]
  },
  {
   "cell_type": "markdown",
   "metadata": {},
   "source": [
    "#### What are the variables collected on each wines?"
   ]
  },
  {
   "cell_type": "code",
   "execution_count": null,
   "metadata": {
    "collapsed": false
   },
   "outputs": [],
   "source": [
    "print list(df.columns.values)"
   ]
  },
  {
   "cell_type": "markdown",
   "metadata": {},
   "source": [
    "#### What is the maximum and minimum pH value?"
   ]
  },
  {
   "cell_type": "code",
   "execution_count": null,
   "metadata": {
    "collapsed": false
   },
   "outputs": [],
   "source": [
    "print df['pH'].max()\n",
    "print df['pH'].min()\n",
    "\n",
    "#or \n",
    "\n",
    "print df['pH'].describe()"
   ]
  },
  {
   "cell_type": "markdown",
   "metadata": {},
   "source": [
    "#### How does the distribution of quality ratings look like?"
   ]
  },
  {
   "cell_type": "code",
   "execution_count": null,
   "metadata": {
    "collapsed": true
   },
   "outputs": [],
   "source": [
    "import matplotlib.pyplot as plt\n",
    "plt.figure();\n",
    "df[\"quality\"].plot.hist(alpha=0.5)\n",
    "plt.show()"
   ]
  },
  {
   "cell_type": "markdown",
   "metadata": {},
   "source": [
    "#### Some of the volatile acidity measurements are missing. How many of the measurements are missing? What proportion of wines are missing a volatile acidity rating?"
   ]
  },
  {
   "cell_type": "code",
   "execution_count": null,
   "metadata": {
    "collapsed": false
   },
   "outputs": [],
   "source": [
    "missing_count = df['volatileacidity'].isnull().sum()\n",
    "print missing_count\n",
    "print missing_count / float(len(df.index))"
   ]
  },
  {
   "cell_type": "markdown",
   "metadata": {},
   "source": [
    "#### Fill in the missing values for volatile acidity with the median. Create a new column with the filled in missing data. Call that column: va_medianimpute"
   ]
  },
  {
   "cell_type": "code",
   "execution_count": null,
   "metadata": {
    "collapsed": false
   },
   "outputs": [],
   "source": [
    "df['va_medianimpute'] = df['volatileacidity'].fillna(df['volatileacidity'].median())"
   ]
  },
  {
   "cell_type": "markdown",
   "metadata": {},
   "source": [
    "#### Fill in the missing values for volatile acidity with using the 8 most similar cases/neighbors.  Base similarity off the variables: fixedacidity, citricacid, residualsugar, and chlorides\n",
    "\n",
    "#### Create a new column with the filled in missing data. Call that column: va_neighborimpute"
   ]
  },
  {
   "cell_type": "code",
   "execution_count": null,
   "metadata": {
    "collapsed": false
   },
   "outputs": [],
   "source": [
    "from sklearn.neighbors import KNeighborsRegressor\n",
    "\n",
    "df_complete = df.dropna()\n",
    "\n",
    "neigh = KNeighborsRegressor(n_neighbors=8)\n",
    "neigh.fit(df_complete[[\"fixedacidity\",\"citricacid\",\"residualsugar\",\"chlorides\"]], df_complete[\"volatileacidity\"])\n",
    "\n",
    "df.loc[:,'va_neighborimpute'] = df.apply(lambda x: neigh.predict(df[[\"fixedacidity\",\"citricacid\",\"residualsugar\",\"chlorides\"]])[0] if pd.isnull(x['volatileacidity']) else x['volatileacidity'], axis=1)"
   ]
  },
  {
   "cell_type": "markdown",
   "metadata": {},
   "source": [
    "#### Load in the complete wine dataset (redwinequality_complete.csv), which has the true values for the missing values. Call the dataframe: df_true\n",
    "\n",
    "#### Compare the absolute difference between the volatile acidity column of the complete dataset with va_medianimpute and the va_neighborimpute variables you created.\n",
    "\n",
    "#### Which imputation method has the smallest MEAN/AVERAGE absolute difference?"
   ]
  },
  {
   "cell_type": "code",
   "execution_count": null,
   "metadata": {
    "collapsed": false
   },
   "outputs": [],
   "source": [
    "df_true = pd.read_csv('../dataset/redwinequality_complete.csv')\n",
    "print (df_true[\"volatileacidity\"] - df['va_medianimpute']).abs().mean()\n",
    "print (df_true[\"volatileacidity\"] - df['va_neighborimpute']).abs().mean()"
   ]
  },
  {
   "cell_type": "markdown",
   "metadata": {
    "collapsed": true
   },
   "source": [
    "#### You want to recode the chlorides as either being \"high\" or \"low\" if the chloride level is above or below (or equal to) .25. Create a new variable called: \"chlorides_category\" that follows those rules. Show the new coded variable next to the old numeric variable."
   ]
  },
  {
   "cell_type": "code",
   "execution_count": null,
   "metadata": {
    "collapsed": false
   },
   "outputs": [],
   "source": [
    "df.chlorides.median()\n",
    "df.ix[df.chlorides > df.chlorides.median(), 'chlorides_category'] = \"high\"\n",
    "df.ix[df.chlorides <= df.chlorides.median(), 'chlorides_category'] = \"low\"\n",
    "print df[['chlorides', 'chlorides_category']]"
   ]
  }
 ],
 "metadata": {
  "kernelspec": {
   "display_name": "Python 2",
   "language": "python",
   "name": "python2"
  },
  "language_info": {
   "codemirror_mode": {
    "name": "ipython",
    "version": 2
   },
   "file_extension": ".py",
   "mimetype": "text/x-python",
   "name": "python",
   "nbconvert_exporter": "python",
   "pygments_lexer": "ipython2",
   "version": "2.7.11"
  }
 },
 "nbformat": 4,
 "nbformat_minor": 0
}
